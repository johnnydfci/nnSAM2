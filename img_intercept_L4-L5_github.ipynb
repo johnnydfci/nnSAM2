{
 "cells": [
  {
   "cell_type": "markdown",
   "metadata": {},
   "source": [
    "# Automated Cropping and Saving of Medical Imaging Data\n",
    "\n",
    "## Overview\n",
    "This notebook processes 3D medical images (stored as `.nii.gz` files) by:\n",
    "1. Reading slice selection information from a CSV file.\n",
    "2. Cropping the images based on specified slice ranges.\n",
    "3. Saving the cropped images as new `.nii.gz` files, preserving the original metadata.\n",
    "\n",
    "The workflow uses `SimpleITK` for handling medical imaging data and `pandas` for managing metadata in the CSV file.\n",
    "\n",
    "## Prerequisites\n",
    "- Input data:\n",
    "  - A directory containing `.nii.gz` files.\n",
    "  - A CSV file with columns:\n",
    "    - `pid`: Patient identifier matching the image file prefix.\n",
    "    - `slice_start` and `slice_stop`: Start and end indices for cropping.\n",
    "- Python libraries: `SimpleITK`, `pandas`, `numpy`, `os`, `glob`.\n",
    "\n",
    "## Output\n",
    "The cropped images are saved in a specified output directory with filenames formatted as `<pid>_img_L4-L5.nii.gz`.\n"
   ]
  },
  {
   "cell_type": "code",
   "execution_count": 3,
   "metadata": {},
   "outputs": [],
   "source": [
    "import SimpleITK as sitk\n",
    "\n",
    "# Function to save a NumPy array as a NIfTI (.nii) file\n",
    "# Parameters:\n",
    "# - mask_array: The 3D NumPy array to be saved as a NIfTI file.\n",
    "# - nii_template_path: Path to an existing NIfTI file used as a template for metadata (spacing, direction, origin).\n",
    "# - nii_save_path: Output path to save the new NIfTI file.\n",
    "def save_array_to_nii(mask_array, nii_template_path, nii_save_path):\n",
    "    # Read the template NIfTI file to extract metadata\n",
    "    sitk_image_object = sitk.ReadImage(nii_template_path)\n",
    "    output_spacing = sitk_image_object.GetSpacing()       # Voxel spacing\n",
    "    output_direction = sitk_image_object.GetDirection()   # Orientation of the image\n",
    "    output_origin = sitk_image_object.GetOrigin()         # Position in physical space\n",
    "\n",
    "    # Convert NumPy array to a SimpleITK image object\n",
    "    nrrd_output = sitk.GetImageFromArray(mask_array)\n",
    "    # Set the metadata from the template\n",
    "    nrrd_output.SetSpacing(output_spacing)\n",
    "    nrrd_output.SetDirection(output_direction)\n",
    "    nrrd_output.SetOrigin(output_origin)\n",
    "\n",
    "    # Save the NIfTI file with compression enabled\n",
    "    nrrdWriter = sitk.ImageFileWriter()\n",
    "    nrrdWriter.SetFileName(nii_save_path)\n",
    "    nrrdWriter.SetUseCompression(True)\n",
    "    nrrdWriter.Execute(nrrd_output)\n",
    "\n",
    "    # Log the saved file path\n",
    "    print(nii_save_path, 'saved')\n"
   ]
  },
  {
   "cell_type": "code",
   "execution_count": null,
   "metadata": {
    "scrolled": true
   },
   "outputs": [],
   "source": [
    "import os\n",
    "import glob\n",
    "import pandas as pd\n",
    "import numpy as np\n",
    "\n",
    "# Paths to input files and directories\n",
    "csv_path = 'csv_and_figures/word_img_size_100_to_L2L5.csv'  # Path to the CSV file with slice indices\n",
    "img_dir = 'nnUNet_raw_data_base/nnUNet_train_data_raw/img_in_nii/'  # Directory with original NIfTI files\n",
    "img_L4L5_dir = 'nnUNet_raw_data_base/nnUNet_train_data_raw/img_in_nii_L4-L5/'  # Directory for cropped output files\n",
    "\n",
    "# === Load CSV ===\n",
    "df = pd.read_csv(csv_path)\n",
    "\n",
    "# === Iterate and crop ===\n",
    "for _, row in df.iterrows():\n",
    "    pid = row['pid'].replace('.nii.gz', '')\n",
    "    img_path_list = glob.glob(os.path.join(img_dir, pid + '*.nii.gz'))\n",
    "\n",
    "    if len(img_path_list) == 0:\n",
    "        print(f\"Image not found for: {pid}\")\n",
    "        continue\n",
    "\n",
    "    img_path = img_path_list[0]\n",
    "    output_path = os.path.join(img_L4L5_dir, f\"{pid}_img_L4-L5.nii.gz\")\n",
    "\n",
    "    # Read full image\n",
    "    img_sitk = sitk.ReadImage(img_path)\n",
    "    img_array = sitk.GetArrayFromImage(img_sitk)\n",
    "\n",
    "    # Get slice range from L3/L4 to L5/S1 (inclusive of L3_L4, exclusive of below L5_S1)\n",
    "    slice_start = int(row['L3_L4'])\n",
    "    slice_stop = int(row['L5_S1'])\n",
    "\n",
    "    if slice_stop > img_array.shape[0]:\n",
    "        print(f\"Warning: slice_stop {slice_stop} exceeds image depth {img_array.shape[0]} for {pid}\")\n",
    "        slice_stop = img_array.shape[0]\n",
    "\n",
    "    cropped_array = img_array[slice_start:slice_stop, :, :]\n",
    "    print(f\"{pid}: Cropped {slice_start} to {slice_stop} → shape: {cropped_array.shape}\")\n",
    "\n",
    "    # Save cropped region\n",
    "    save_array_to_nii(cropped_array, img_path, output_path)\n"
   ]
  },
  {
   "cell_type": "code",
   "execution_count": null,
   "metadata": {},
   "outputs": [],
   "source": []
  }
 ],
 "metadata": {
  "kernelspec": {
   "display_name": "Python [conda env:lipa] *",
   "language": "python",
   "name": "conda-env-lipa-py"
  },
  "language_info": {
   "codemirror_mode": {
    "name": "ipython",
    "version": 3
   },
   "file_extension": ".py",
   "mimetype": "text/x-python",
   "name": "python",
   "nbconvert_exporter": "python",
   "pygments_lexer": "ipython3",
   "version": "3.8.5"
  }
 },
 "nbformat": 4,
 "nbformat_minor": 4
}
