{
 "cells": [
  {
   "cell_type": "code",
   "execution_count": 15,
   "id": "c8cb22b9",
   "metadata": {},
   "outputs": [],
   "source": [
    "import SimpleITK as sitk\n",
    "from scipy.ndimage import label, binary_fill_holes\n",
    "\n",
    "def save_array_to_nii(mask_array, nii_template_path, nii_save_path):\n",
    "\n",
    "    sitk_image_object = sitk.ReadImage(nii_template_path)\n",
    "    output_spacing = sitk_image_object.GetSpacing()\n",
    "    output_direction = sitk_image_object.GetDirection()\n",
    "    output_origin = sitk_image_object.GetOrigin()\n",
    "#     print(output_spacing ,output_direction,output_origin)\n",
    "\n",
    "    nrrd_output = sitk.GetImageFromArray(mask_array)\n",
    "    nrrd_output.SetSpacing(output_spacing)\n",
    "    nrrd_output.SetDirection(output_direction)\n",
    "    nrrd_output.SetOrigin(output_origin)\n",
    "\n",
    "    nrrdWriter = sitk.ImageFileWriter()\n",
    "    nrrdWriter.SetFileName(nii_save_path)\n",
    "    nrrdWriter.SetUseCompression(True)\n",
    "    nrrdWriter.Execute(nrrd_output)\n",
    "    print(nii_save_path ,'saved')\n",
    "    \n",
    "def keep_largest_connected_component(mask):\n",
    "    labeled, num = label(mask)\n",
    "    if num == 0:\n",
    "        return mask\n",
    "    counts = np.bincount(labeled.ravel())\n",
    "    counts[0] = 0  # ignore background\n",
    "    largest_label = counts.argmax()\n",
    "    return binary_fill_holes((labeled == largest_label)).astype(np.uint8)"
   ]
  },
  {
   "cell_type": "code",
   "execution_count": 16,
   "id": "ac2bd72f",
   "metadata": {
    "scrolled": true
   },
   "outputs": [
    {
     "name": "stderr",
     "output_type": "stream",
     "text": [
      "  1%|▏                                          | 1/173 [00:00<01:18,  2.20it/s]"
     ]
    },
    {
     "name": "stdout",
     "output_type": "stream",
     "text": [
      "videos/CT_TT/data_in_nii/SAM2_auto_seg_nii_5shot/s0010_sam2_seg.nii.gz saved\n"
     ]
    },
    {
     "name": "stderr",
     "output_type": "stream",
     "text": [
      "  1%|▍                                          | 2/173 [00:00<01:11,  2.40it/s]"
     ]
    },
    {
     "name": "stdout",
     "output_type": "stream",
     "text": [
      "videos/CT_TT/data_in_nii/SAM2_auto_seg_nii_5shot/s0011_sam2_seg.nii.gz saved\n"
     ]
    },
    {
     "name": "stderr",
     "output_type": "stream",
     "text": [
      "  2%|▋                                          | 3/173 [00:01<01:02,  2.74it/s]"
     ]
    },
    {
     "name": "stdout",
     "output_type": "stream",
     "text": [
      "videos/CT_TT/data_in_nii/SAM2_auto_seg_nii_5shot/s0014_sam2_seg.nii.gz saved\n"
     ]
    },
    {
     "name": "stderr",
     "output_type": "stream",
     "text": [
      "  2%|▉                                          | 4/173 [00:01<01:00,  2.78it/s]"
     ]
    },
    {
     "name": "stdout",
     "output_type": "stream",
     "text": [
      "videos/CT_TT/data_in_nii/SAM2_auto_seg_nii_5shot/s0015_sam2_seg.nii.gz saved\n"
     ]
    },
    {
     "name": "stderr",
     "output_type": "stream",
     "text": [
      "  3%|█▏                                         | 5/173 [00:01<01:01,  2.71it/s]"
     ]
    },
    {
     "name": "stdout",
     "output_type": "stream",
     "text": [
      "videos/CT_TT/data_in_nii/SAM2_auto_seg_nii_5shot/s0016_sam2_seg.nii.gz saved\n"
     ]
    },
    {
     "name": "stderr",
     "output_type": "stream",
     "text": [
      "  3%|█▍                                         | 6/173 [00:02<01:03,  2.64it/s]"
     ]
    },
    {
     "name": "stdout",
     "output_type": "stream",
     "text": [
      "videos/CT_TT/data_in_nii/SAM2_auto_seg_nii_5shot/s0022_sam2_seg.nii.gz saved\n"
     ]
    },
    {
     "name": "stderr",
     "output_type": "stream",
     "text": [
      "  4%|█▋                                         | 7/173 [00:02<01:00,  2.75it/s]"
     ]
    },
    {
     "name": "stdout",
     "output_type": "stream",
     "text": [
      "videos/CT_TT/data_in_nii/SAM2_auto_seg_nii_5shot/s0024_sam2_seg.nii.gz saved\n"
     ]
    },
    {
     "name": "stderr",
     "output_type": "stream",
     "text": [
      "  5%|█▉                                         | 8/173 [00:02<01:00,  2.74it/s]"
     ]
    },
    {
     "name": "stdout",
     "output_type": "stream",
     "text": [
      "videos/CT_TT/data_in_nii/SAM2_auto_seg_nii_5shot/s0028_sam2_seg.nii.gz saved\n"
     ]
    },
    {
     "name": "stderr",
     "output_type": "stream",
     "text": [
      "  5%|██▏                                        | 9/173 [00:03<00:57,  2.85it/s]"
     ]
    },
    {
     "name": "stdout",
     "output_type": "stream",
     "text": [
      "videos/CT_TT/data_in_nii/SAM2_auto_seg_nii_5shot/s0029_sam2_seg.nii.gz saved\n"
     ]
    },
    {
     "name": "stderr",
     "output_type": "stream",
     "text": [
      "  6%|██▍                                       | 10/173 [00:03<00:57,  2.85it/s]"
     ]
    },
    {
     "name": "stdout",
     "output_type": "stream",
     "text": [
      "videos/CT_TT/data_in_nii/SAM2_auto_seg_nii_5shot/s0031_sam2_seg.nii.gz saved\n"
     ]
    },
    {
     "name": "stderr",
     "output_type": "stream",
     "text": [
      "  6%|██▋                                       | 11/173 [00:04<00:56,  2.86it/s]"
     ]
    },
    {
     "name": "stdout",
     "output_type": "stream",
     "text": [
      "videos/CT_TT/data_in_nii/SAM2_auto_seg_nii_5shot/s0034_sam2_seg.nii.gz saved\n"
     ]
    },
    {
     "name": "stderr",
     "output_type": "stream",
     "text": [
      "  7%|██▉                                       | 12/173 [00:04<00:55,  2.91it/s]"
     ]
    },
    {
     "name": "stdout",
     "output_type": "stream",
     "text": [
      "videos/CT_TT/data_in_nii/SAM2_auto_seg_nii_5shot/s0040_sam2_seg.nii.gz saved\n"
     ]
    },
    {
     "name": "stderr",
     "output_type": "stream",
     "text": [
      "  8%|███▏                                      | 13/173 [00:04<00:56,  2.85it/s]"
     ]
    },
    {
     "name": "stdout",
     "output_type": "stream",
     "text": [
      "videos/CT_TT/data_in_nii/SAM2_auto_seg_nii_5shot/s0042_sam2_seg.nii.gz saved\n"
     ]
    },
    {
     "name": "stderr",
     "output_type": "stream",
     "text": [
      "  8%|███▍                                      | 14/173 [00:05<01:01,  2.59it/s]"
     ]
    },
    {
     "name": "stdout",
     "output_type": "stream",
     "text": [
      "videos/CT_TT/data_in_nii/SAM2_auto_seg_nii_5shot/s0053_sam2_seg.nii.gz saved\n"
     ]
    },
    {
     "name": "stderr",
     "output_type": "stream",
     "text": [
      "  9%|███▋                                      | 15/173 [00:05<00:53,  2.95it/s]"
     ]
    },
    {
     "name": "stdout",
     "output_type": "stream",
     "text": [
      "videos/CT_TT/data_in_nii/SAM2_auto_seg_nii_5shot/s0071_sam2_seg.nii.gz saved\n"
     ]
    },
    {
     "name": "stderr",
     "output_type": "stream",
     "text": [
      "  9%|███▉                                      | 16/173 [00:05<00:51,  3.02it/s]"
     ]
    },
    {
     "name": "stdout",
     "output_type": "stream",
     "text": [
      "videos/CT_TT/data_in_nii/SAM2_auto_seg_nii_5shot/s0072_sam2_seg.nii.gz saved\n"
     ]
    },
    {
     "name": "stderr",
     "output_type": "stream",
     "text": [
      " 10%|████▏                                     | 17/173 [00:06<00:51,  3.05it/s]"
     ]
    },
    {
     "name": "stdout",
     "output_type": "stream",
     "text": [
      "videos/CT_TT/data_in_nii/SAM2_auto_seg_nii_5shot/s0076_sam2_seg.nii.gz saved\n"
     ]
    },
    {
     "name": "stderr",
     "output_type": "stream",
     "text": [
      " 10%|████▎                                     | 18/173 [00:06<00:46,  3.34it/s]"
     ]
    },
    {
     "name": "stdout",
     "output_type": "stream",
     "text": [
      "videos/CT_TT/data_in_nii/SAM2_auto_seg_nii_5shot/s0078_sam2_seg.nii.gz saved\n"
     ]
    },
    {
     "name": "stderr",
     "output_type": "stream",
     "text": [
      " 11%|████▌                                     | 19/173 [00:06<00:48,  3.17it/s]"
     ]
    },
    {
     "name": "stdout",
     "output_type": "stream",
     "text": [
      "videos/CT_TT/data_in_nii/SAM2_auto_seg_nii_5shot/s0091_sam2_seg.nii.gz saved\n"
     ]
    },
    {
     "name": "stderr",
     "output_type": "stream",
     "text": [
      " 12%|████▊                                     | 20/173 [00:06<00:50,  3.02it/s]"
     ]
    },
    {
     "name": "stdout",
     "output_type": "stream",
     "text": [
      "videos/CT_TT/data_in_nii/SAM2_auto_seg_nii_5shot/s0096_sam2_seg.nii.gz saved\n"
     ]
    },
    {
     "name": "stderr",
     "output_type": "stream",
     "text": [
      " 12%|█████                                     | 21/173 [00:07<00:47,  3.19it/s]"
     ]
    },
    {
     "name": "stdout",
     "output_type": "stream",
     "text": [
      "videos/CT_TT/data_in_nii/SAM2_auto_seg_nii_5shot/s0104_sam2_seg.nii.gz saved\n"
     ]
    },
    {
     "name": "stderr",
     "output_type": "stream",
     "text": [
      " 13%|█████▎                                    | 22/173 [00:07<00:48,  3.13it/s]"
     ]
    },
    {
     "name": "stdout",
     "output_type": "stream",
     "text": [
      "videos/CT_TT/data_in_nii/SAM2_auto_seg_nii_5shot/s0133_sam2_seg.nii.gz saved\n"
     ]
    },
    {
     "name": "stderr",
     "output_type": "stream",
     "text": [
      " 13%|█████▌                                    | 23/173 [00:07<00:48,  3.11it/s]"
     ]
    },
    {
     "name": "stdout",
     "output_type": "stream",
     "text": [
      "videos/CT_TT/data_in_nii/SAM2_auto_seg_nii_5shot/s0163_sam2_seg.nii.gz saved\n"
     ]
    },
    {
     "name": "stderr",
     "output_type": "stream",
     "text": [
      " 14%|█████▊                                    | 24/173 [00:08<00:46,  3.24it/s]"
     ]
    },
    {
     "name": "stdout",
     "output_type": "stream",
     "text": [
      "videos/CT_TT/data_in_nii/SAM2_auto_seg_nii_5shot/s0178_sam2_seg.nii.gz saved\n"
     ]
    },
    {
     "name": "stderr",
     "output_type": "stream",
     "text": [
      " 14%|██████                                    | 25/173 [00:08<00:48,  3.07it/s]"
     ]
    },
    {
     "name": "stdout",
     "output_type": "stream",
     "text": [
      "videos/CT_TT/data_in_nii/SAM2_auto_seg_nii_5shot/s0188_sam2_seg.nii.gz saved\n"
     ]
    },
    {
     "name": "stderr",
     "output_type": "stream",
     "text": [
      " 15%|██████▎                                   | 26/173 [00:08<00:44,  3.32it/s]"
     ]
    },
    {
     "name": "stdout",
     "output_type": "stream",
     "text": [
      "videos/CT_TT/data_in_nii/SAM2_auto_seg_nii_5shot/s0196_sam2_seg.nii.gz saved\n"
     ]
    },
    {
     "name": "stderr",
     "output_type": "stream",
     "text": [
      " 16%|██████▌                                   | 27/173 [00:09<00:43,  3.35it/s]"
     ]
    },
    {
     "name": "stdout",
     "output_type": "stream",
     "text": [
      "videos/CT_TT/data_in_nii/SAM2_auto_seg_nii_5shot/s0201_sam2_seg.nii.gz saved\n"
     ]
    },
    {
     "name": "stderr",
     "output_type": "stream",
     "text": [
      " 16%|██████▊                                   | 28/173 [00:09<00:42,  3.42it/s]"
     ]
    },
    {
     "name": "stdout",
     "output_type": "stream",
     "text": [
      "videos/CT_TT/data_in_nii/SAM2_auto_seg_nii_5shot/s0216_sam2_seg.nii.gz saved\n"
     ]
    },
    {
     "name": "stderr",
     "output_type": "stream",
     "text": [
      " 17%|███████                                   | 29/173 [00:09<00:46,  3.09it/s]"
     ]
    },
    {
     "name": "stdout",
     "output_type": "stream",
     "text": [
      "videos/CT_TT/data_in_nii/SAM2_auto_seg_nii_5shot/s0224_sam2_seg.nii.gz saved\n"
     ]
    },
    {
     "name": "stderr",
     "output_type": "stream",
     "text": [
      " 17%|███████▎                                  | 30/173 [00:10<00:44,  3.23it/s]"
     ]
    },
    {
     "name": "stdout",
     "output_type": "stream",
     "text": [
      "videos/CT_TT/data_in_nii/SAM2_auto_seg_nii_5shot/s0227_sam2_seg.nii.gz saved\n"
     ]
    },
    {
     "name": "stderr",
     "output_type": "stream",
     "text": [
      " 18%|███████▌                                  | 31/173 [00:10<00:46,  3.06it/s]"
     ]
    },
    {
     "name": "stdout",
     "output_type": "stream",
     "text": [
      "videos/CT_TT/data_in_nii/SAM2_auto_seg_nii_5shot/s0239_sam2_seg.nii.gz saved\n"
     ]
    },
    {
     "name": "stderr",
     "output_type": "stream",
     "text": [
      " 18%|███████▊                                  | 32/173 [00:10<00:45,  3.12it/s]"
     ]
    },
    {
     "name": "stdout",
     "output_type": "stream",
     "text": [
      "videos/CT_TT/data_in_nii/SAM2_auto_seg_nii_5shot/s0244_sam2_seg.nii.gz saved\n"
     ]
    },
    {
     "name": "stderr",
     "output_type": "stream",
     "text": [
      " 19%|████████                                  | 33/173 [00:10<00:42,  3.30it/s]"
     ]
    },
    {
     "name": "stdout",
     "output_type": "stream",
     "text": [
      "videos/CT_TT/data_in_nii/SAM2_auto_seg_nii_5shot/s0255_sam2_seg.nii.gz saved\n"
     ]
    },
    {
     "name": "stderr",
     "output_type": "stream",
     "text": [
      " 20%|████████▎                                 | 34/173 [00:11<00:45,  3.04it/s]"
     ]
    },
    {
     "name": "stdout",
     "output_type": "stream",
     "text": [
      "videos/CT_TT/data_in_nii/SAM2_auto_seg_nii_5shot/s0260_sam2_seg.nii.gz saved\n"
     ]
    },
    {
     "name": "stderr",
     "output_type": "stream",
     "text": [
      " 20%|████████▍                                 | 35/173 [00:11<00:44,  3.11it/s]"
     ]
    },
    {
     "name": "stdout",
     "output_type": "stream",
     "text": [
      "videos/CT_TT/data_in_nii/SAM2_auto_seg_nii_5shot/s0275_sam2_seg.nii.gz saved\n"
     ]
    },
    {
     "name": "stderr",
     "output_type": "stream",
     "text": [
      " 21%|████████▋                                 | 36/173 [00:12<00:44,  3.06it/s]"
     ]
    },
    {
     "name": "stdout",
     "output_type": "stream",
     "text": [
      "videos/CT_TT/data_in_nii/SAM2_auto_seg_nii_5shot/s0287_sam2_seg.nii.gz saved\n"
     ]
    },
    {
     "name": "stderr",
     "output_type": "stream",
     "text": [
      " 21%|████████▉                                 | 37/173 [00:12<00:45,  2.96it/s]"
     ]
    },
    {
     "name": "stdout",
     "output_type": "stream",
     "text": [
      "videos/CT_TT/data_in_nii/SAM2_auto_seg_nii_5shot/s0300_sam2_seg.nii.gz saved\n"
     ]
    },
    {
     "name": "stderr",
     "output_type": "stream",
     "text": [
      " 22%|█████████▏                                | 38/173 [00:12<00:45,  2.97it/s]"
     ]
    },
    {
     "name": "stdout",
     "output_type": "stream",
     "text": [
      "videos/CT_TT/data_in_nii/SAM2_auto_seg_nii_5shot/s0314_sam2_seg.nii.gz saved\n"
     ]
    },
    {
     "name": "stderr",
     "output_type": "stream",
     "text": [
      " 23%|█████████▍                                | 39/173 [00:13<00:43,  3.08it/s]"
     ]
    },
    {
     "name": "stdout",
     "output_type": "stream",
     "text": [
      "videos/CT_TT/data_in_nii/SAM2_auto_seg_nii_5shot/s0320_sam2_seg.nii.gz saved\n"
     ]
    },
    {
     "name": "stderr",
     "output_type": "stream",
     "text": [
      " 23%|█████████▋                                | 40/173 [00:13<00:43,  3.07it/s]"
     ]
    },
    {
     "name": "stdout",
     "output_type": "stream",
     "text": [
      "videos/CT_TT/data_in_nii/SAM2_auto_seg_nii_5shot/s0325_sam2_seg.nii.gz saved\n"
     ]
    },
    {
     "name": "stderr",
     "output_type": "stream",
     "text": [
      " 24%|█████████▉                                | 41/173 [00:13<00:43,  3.05it/s]"
     ]
    },
    {
     "name": "stdout",
     "output_type": "stream",
     "text": [
      "videos/CT_TT/data_in_nii/SAM2_auto_seg_nii_5shot/s0328_sam2_seg.nii.gz saved\n"
     ]
    },
    {
     "name": "stderr",
     "output_type": "stream",
     "text": [
      " 24%|██████████▏                               | 42/173 [00:13<00:42,  3.09it/s]"
     ]
    },
    {
     "name": "stdout",
     "output_type": "stream",
     "text": [
      "videos/CT_TT/data_in_nii/SAM2_auto_seg_nii_5shot/s0332_sam2_seg.nii.gz saved\n"
     ]
    },
    {
     "name": "stderr",
     "output_type": "stream",
     "text": [
      " 25%|██████████▍                               | 43/173 [00:14<00:41,  3.10it/s]"
     ]
    },
    {
     "name": "stdout",
     "output_type": "stream",
     "text": [
      "videos/CT_TT/data_in_nii/SAM2_auto_seg_nii_5shot/s0334_sam2_seg.nii.gz saved\n"
     ]
    },
    {
     "name": "stderr",
     "output_type": "stream",
     "text": [
      " 25%|██████████▋                               | 44/173 [00:14<00:41,  3.12it/s]"
     ]
    },
    {
     "name": "stdout",
     "output_type": "stream",
     "text": [
      "videos/CT_TT/data_in_nii/SAM2_auto_seg_nii_5shot/s0350_sam2_seg.nii.gz saved\n"
     ]
    },
    {
     "name": "stderr",
     "output_type": "stream",
     "text": [
      " 26%|██████████▉                               | 45/173 [00:14<00:41,  3.06it/s]"
     ]
    },
    {
     "name": "stdout",
     "output_type": "stream",
     "text": [
      "videos/CT_TT/data_in_nii/SAM2_auto_seg_nii_5shot/s0355_sam2_seg.nii.gz saved\n"
     ]
    },
    {
     "name": "stderr",
     "output_type": "stream",
     "text": [
      " 27%|███████████▏                              | 46/173 [00:15<00:42,  3.00it/s]"
     ]
    },
    {
     "name": "stdout",
     "output_type": "stream",
     "text": [
      "videos/CT_TT/data_in_nii/SAM2_auto_seg_nii_5shot/s0362_sam2_seg.nii.gz saved\n"
     ]
    },
    {
     "name": "stderr",
     "output_type": "stream",
     "text": [
      " 27%|███████████▍                              | 47/173 [00:15<00:39,  3.19it/s]"
     ]
    },
    {
     "name": "stdout",
     "output_type": "stream",
     "text": [
      "videos/CT_TT/data_in_nii/SAM2_auto_seg_nii_5shot/s0366_sam2_seg.nii.gz saved\n"
     ]
    },
    {
     "name": "stderr",
     "output_type": "stream",
     "text": [
      " 28%|███████████▋                              | 48/173 [00:15<00:37,  3.34it/s]"
     ]
    },
    {
     "name": "stdout",
     "output_type": "stream",
     "text": [
      "videos/CT_TT/data_in_nii/SAM2_auto_seg_nii_5shot/s0375_sam2_seg.nii.gz saved\n"
     ]
    },
    {
     "name": "stderr",
     "output_type": "stream",
     "text": [
      " 28%|███████████▉                              | 49/173 [00:16<00:36,  3.41it/s]"
     ]
    },
    {
     "name": "stdout",
     "output_type": "stream",
     "text": [
      "videos/CT_TT/data_in_nii/SAM2_auto_seg_nii_5shot/s0402_sam2_seg.nii.gz saved\n"
     ]
    },
    {
     "name": "stderr",
     "output_type": "stream",
     "text": [
      " 29%|████████████▏                             | 50/173 [00:16<00:36,  3.35it/s]"
     ]
    },
    {
     "name": "stdout",
     "output_type": "stream",
     "text": [
      "videos/CT_TT/data_in_nii/SAM2_auto_seg_nii_5shot/s0403_sam2_seg.nii.gz saved\n"
     ]
    },
    {
     "name": "stderr",
     "output_type": "stream",
     "text": [
      " 29%|████████████▍                             | 51/173 [00:16<00:37,  3.22it/s]"
     ]
    },
    {
     "name": "stdout",
     "output_type": "stream",
     "text": [
      "videos/CT_TT/data_in_nii/SAM2_auto_seg_nii_5shot/s0406_sam2_seg.nii.gz saved\n"
     ]
    },
    {
     "name": "stderr",
     "output_type": "stream",
     "text": [
      " 30%|████████████▌                             | 52/173 [00:17<00:36,  3.30it/s]"
     ]
    },
    {
     "name": "stdout",
     "output_type": "stream",
     "text": [
      "videos/CT_TT/data_in_nii/SAM2_auto_seg_nii_5shot/s0408_sam2_seg.nii.gz saved\n"
     ]
    },
    {
     "name": "stderr",
     "output_type": "stream",
     "text": [
      " 31%|████████████▊                             | 53/173 [00:17<00:36,  3.32it/s]"
     ]
    },
    {
     "name": "stdout",
     "output_type": "stream",
     "text": [
      "videos/CT_TT/data_in_nii/SAM2_auto_seg_nii_5shot/s0428_sam2_seg.nii.gz saved\n"
     ]
    },
    {
     "name": "stderr",
     "output_type": "stream",
     "text": [
      " 31%|█████████████                             | 54/173 [00:17<00:33,  3.57it/s]"
     ]
    },
    {
     "name": "stdout",
     "output_type": "stream",
     "text": [
      "videos/CT_TT/data_in_nii/SAM2_auto_seg_nii_5shot/s0442_sam2_seg.nii.gz saved\n"
     ]
    },
    {
     "name": "stderr",
     "output_type": "stream",
     "text": [
      " 32%|█████████████▎                            | 55/173 [00:17<00:33,  3.55it/s]"
     ]
    },
    {
     "name": "stdout",
     "output_type": "stream",
     "text": [
      "videos/CT_TT/data_in_nii/SAM2_auto_seg_nii_5shot/s0447_sam2_seg.nii.gz saved\n"
     ]
    },
    {
     "name": "stderr",
     "output_type": "stream",
     "text": [
      " 32%|█████████████▌                            | 56/173 [00:18<00:31,  3.69it/s]"
     ]
    },
    {
     "name": "stdout",
     "output_type": "stream",
     "text": [
      "videos/CT_TT/data_in_nii/SAM2_auto_seg_nii_5shot/s0456_sam2_seg.nii.gz saved\n"
     ]
    },
    {
     "name": "stderr",
     "output_type": "stream",
     "text": [
      " 33%|█████████████▊                            | 57/173 [00:18<00:33,  3.51it/s]"
     ]
    },
    {
     "name": "stdout",
     "output_type": "stream",
     "text": [
      "videos/CT_TT/data_in_nii/SAM2_auto_seg_nii_5shot/s0467_sam2_seg.nii.gz saved\n"
     ]
    },
    {
     "name": "stderr",
     "output_type": "stream",
     "text": [
      " 34%|██████████████                            | 58/173 [00:18<00:33,  3.48it/s]"
     ]
    },
    {
     "name": "stdout",
     "output_type": "stream",
     "text": [
      "videos/CT_TT/data_in_nii/SAM2_auto_seg_nii_5shot/s0472_sam2_seg.nii.gz saved\n"
     ]
    },
    {
     "name": "stderr",
     "output_type": "stream",
     "text": [
      " 34%|██████████████▎                           | 59/173 [00:19<00:33,  3.43it/s]"
     ]
    },
    {
     "name": "stdout",
     "output_type": "stream",
     "text": [
      "videos/CT_TT/data_in_nii/SAM2_auto_seg_nii_5shot/s0476_sam2_seg.nii.gz saved\n"
     ]
    },
    {
     "name": "stderr",
     "output_type": "stream",
     "text": [
      " 35%|██████████████▌                           | 60/173 [00:19<00:32,  3.47it/s]"
     ]
    },
    {
     "name": "stdout",
     "output_type": "stream",
     "text": [
      "videos/CT_TT/data_in_nii/SAM2_auto_seg_nii_5shot/s0483_sam2_seg.nii.gz saved\n"
     ]
    },
    {
     "name": "stderr",
     "output_type": "stream",
     "text": [
      " 35%|██████████████▊                           | 61/173 [00:19<00:33,  3.32it/s]"
     ]
    },
    {
     "name": "stdout",
     "output_type": "stream",
     "text": [
      "videos/CT_TT/data_in_nii/SAM2_auto_seg_nii_5shot/s0500_sam2_seg.nii.gz saved\n"
     ]
    },
    {
     "name": "stderr",
     "output_type": "stream",
     "text": [
      " 36%|███████████████                           | 62/173 [00:19<00:32,  3.36it/s]"
     ]
    },
    {
     "name": "stdout",
     "output_type": "stream",
     "text": [
      "videos/CT_TT/data_in_nii/SAM2_auto_seg_nii_5shot/s0519_sam2_seg.nii.gz saved\n"
     ]
    },
    {
     "name": "stderr",
     "output_type": "stream",
     "text": [
      " 36%|███████████████▎                          | 63/173 [00:20<00:32,  3.41it/s]"
     ]
    },
    {
     "name": "stdout",
     "output_type": "stream",
     "text": [
      "videos/CT_TT/data_in_nii/SAM2_auto_seg_nii_5shot/s0536_sam2_seg.nii.gz saved\n"
     ]
    },
    {
     "name": "stderr",
     "output_type": "stream",
     "text": [
      " 37%|███████████████▌                          | 64/173 [00:20<00:34,  3.19it/s]"
     ]
    },
    {
     "name": "stdout",
     "output_type": "stream",
     "text": [
      "videos/CT_TT/data_in_nii/SAM2_auto_seg_nii_5shot/s0541_sam2_seg.nii.gz saved\n"
     ]
    },
    {
     "name": "stderr",
     "output_type": "stream",
     "text": [
      " 38%|███████████████▊                          | 65/173 [00:20<00:35,  3.03it/s]"
     ]
    },
    {
     "name": "stdout",
     "output_type": "stream",
     "text": [
      "videos/CT_TT/data_in_nii/SAM2_auto_seg_nii_5shot/s0543_sam2_seg.nii.gz saved\n"
     ]
    },
    {
     "name": "stderr",
     "output_type": "stream",
     "text": [
      " 38%|████████████████                          | 66/173 [00:21<00:37,  2.87it/s]"
     ]
    },
    {
     "name": "stdout",
     "output_type": "stream",
     "text": [
      "videos/CT_TT/data_in_nii/SAM2_auto_seg_nii_5shot/s0546_sam2_seg.nii.gz saved\n"
     ]
    },
    {
     "name": "stderr",
     "output_type": "stream",
     "text": [
      " 39%|████████████████▎                         | 67/173 [00:21<00:36,  2.87it/s]"
     ]
    },
    {
     "name": "stdout",
     "output_type": "stream",
     "text": [
      "videos/CT_TT/data_in_nii/SAM2_auto_seg_nii_5shot/s0550_sam2_seg.nii.gz saved\n"
     ]
    },
    {
     "name": "stderr",
     "output_type": "stream",
     "text": [
      " 39%|████████████████▌                         | 68/173 [00:21<00:35,  3.00it/s]"
     ]
    },
    {
     "name": "stdout",
     "output_type": "stream",
     "text": [
      "videos/CT_TT/data_in_nii/SAM2_auto_seg_nii_5shot/s0577_sam2_seg.nii.gz saved\n"
     ]
    },
    {
     "name": "stderr",
     "output_type": "stream",
     "text": [
      " 40%|████████████████▊                         | 69/173 [00:22<00:32,  3.22it/s]"
     ]
    },
    {
     "name": "stdout",
     "output_type": "stream",
     "text": [
      "videos/CT_TT/data_in_nii/SAM2_auto_seg_nii_5shot/s0584_sam2_seg.nii.gz saved\n"
     ]
    },
    {
     "name": "stderr",
     "output_type": "stream",
     "text": [
      " 40%|████████████████▉                         | 70/173 [00:22<00:34,  3.03it/s]"
     ]
    },
    {
     "name": "stdout",
     "output_type": "stream",
     "text": [
      "videos/CT_TT/data_in_nii/SAM2_auto_seg_nii_5shot/s0587_sam2_seg.nii.gz saved\n"
     ]
    },
    {
     "name": "stderr",
     "output_type": "stream",
     "text": [
      " 41%|█████████████████▏                        | 71/173 [00:22<00:32,  3.13it/s]"
     ]
    },
    {
     "name": "stdout",
     "output_type": "stream",
     "text": [
      "videos/CT_TT/data_in_nii/SAM2_auto_seg_nii_5shot/s0589_sam2_seg.nii.gz saved\n"
     ]
    },
    {
     "name": "stderr",
     "output_type": "stream",
     "text": [
      " 42%|█████████████████▍                        | 72/173 [00:23<00:31,  3.23it/s]"
     ]
    },
    {
     "name": "stdout",
     "output_type": "stream",
     "text": [
      "videos/CT_TT/data_in_nii/SAM2_auto_seg_nii_5shot/s0593_sam2_seg.nii.gz saved\n"
     ]
    },
    {
     "name": "stderr",
     "output_type": "stream",
     "text": [
      " 42%|█████████████████▋                        | 73/173 [00:23<00:30,  3.31it/s]"
     ]
    },
    {
     "name": "stdout",
     "output_type": "stream",
     "text": [
      "videos/CT_TT/data_in_nii/SAM2_auto_seg_nii_5shot/s0612_sam2_seg.nii.gz saved\n"
     ]
    },
    {
     "name": "stderr",
     "output_type": "stream",
     "text": [
      " 43%|█████████████████▉                        | 74/173 [00:23<00:30,  3.22it/s]"
     ]
    },
    {
     "name": "stdout",
     "output_type": "stream",
     "text": [
      "videos/CT_TT/data_in_nii/SAM2_auto_seg_nii_5shot/s0613_sam2_seg.nii.gz saved\n"
     ]
    },
    {
     "name": "stderr",
     "output_type": "stream",
     "text": [
      " 43%|██████████████████▏                       | 75/173 [00:24<00:30,  3.17it/s]"
     ]
    },
    {
     "name": "stdout",
     "output_type": "stream",
     "text": [
      "videos/CT_TT/data_in_nii/SAM2_auto_seg_nii_5shot/s0621_sam2_seg.nii.gz saved\n"
     ]
    },
    {
     "name": "stderr",
     "output_type": "stream",
     "text": [
      " 44%|██████████████████▍                       | 76/173 [00:24<00:30,  3.18it/s]"
     ]
    },
    {
     "name": "stdout",
     "output_type": "stream",
     "text": [
      "videos/CT_TT/data_in_nii/SAM2_auto_seg_nii_5shot/s0628_sam2_seg.nii.gz saved\n"
     ]
    },
    {
     "name": "stderr",
     "output_type": "stream",
     "text": [
      " 45%|██████████████████▋                       | 77/173 [00:24<00:29,  3.21it/s]"
     ]
    },
    {
     "name": "stdout",
     "output_type": "stream",
     "text": [
      "videos/CT_TT/data_in_nii/SAM2_auto_seg_nii_5shot/s0635_sam2_seg.nii.gz saved\n"
     ]
    },
    {
     "name": "stderr",
     "output_type": "stream",
     "text": [
      " 45%|██████████████████▉                       | 78/173 [00:25<00:28,  3.38it/s]"
     ]
    },
    {
     "name": "stdout",
     "output_type": "stream",
     "text": [
      "videos/CT_TT/data_in_nii/SAM2_auto_seg_nii_5shot/s0649_sam2_seg.nii.gz saved\n"
     ]
    },
    {
     "name": "stderr",
     "output_type": "stream",
     "text": [
      " 46%|███████████████████▏                      | 79/173 [00:25<00:30,  3.06it/s]"
     ]
    },
    {
     "name": "stdout",
     "output_type": "stream",
     "text": [
      "videos/CT_TT/data_in_nii/SAM2_auto_seg_nii_5shot/s0650_sam2_seg.nii.gz saved\n"
     ]
    },
    {
     "name": "stderr",
     "output_type": "stream",
     "text": [
      " 46%|███████████████████▍                      | 80/173 [00:25<00:30,  3.08it/s]"
     ]
    },
    {
     "name": "stdout",
     "output_type": "stream",
     "text": [
      "videos/CT_TT/data_in_nii/SAM2_auto_seg_nii_5shot/s0657_sam2_seg.nii.gz saved\n"
     ]
    },
    {
     "name": "stderr",
     "output_type": "stream",
     "text": [
      " 47%|███████████████████▋                      | 81/173 [00:26<00:29,  3.15it/s]"
     ]
    },
    {
     "name": "stdout",
     "output_type": "stream",
     "text": [
      "videos/CT_TT/data_in_nii/SAM2_auto_seg_nii_5shot/s0662_sam2_seg.nii.gz saved\n"
     ]
    },
    {
     "name": "stderr",
     "output_type": "stream",
     "text": [
      " 47%|███████████████████▉                      | 82/173 [00:26<00:28,  3.20it/s]"
     ]
    },
    {
     "name": "stdout",
     "output_type": "stream",
     "text": [
      "videos/CT_TT/data_in_nii/SAM2_auto_seg_nii_5shot/s0664_sam2_seg.nii.gz saved\n"
     ]
    },
    {
     "name": "stderr",
     "output_type": "stream",
     "text": [
      " 48%|████████████████████▏                     | 83/173 [00:26<00:28,  3.13it/s]"
     ]
    },
    {
     "name": "stdout",
     "output_type": "stream",
     "text": [
      "videos/CT_TT/data_in_nii/SAM2_auto_seg_nii_5shot/s0669_sam2_seg.nii.gz saved\n"
     ]
    },
    {
     "name": "stderr",
     "output_type": "stream",
     "text": [
      " 49%|████████████████████▍                     | 84/173 [00:26<00:27,  3.19it/s]"
     ]
    },
    {
     "name": "stdout",
     "output_type": "stream",
     "text": [
      "videos/CT_TT/data_in_nii/SAM2_auto_seg_nii_5shot/s0677_sam2_seg.nii.gz saved\n"
     ]
    },
    {
     "name": "stderr",
     "output_type": "stream",
     "text": [
      " 49%|████████████████████▋                     | 85/173 [00:27<00:29,  3.02it/s]"
     ]
    },
    {
     "name": "stdout",
     "output_type": "stream",
     "text": [
      "videos/CT_TT/data_in_nii/SAM2_auto_seg_nii_5shot/s0683_sam2_seg.nii.gz saved\n"
     ]
    },
    {
     "name": "stderr",
     "output_type": "stream",
     "text": [
      " 50%|████████████████████▉                     | 86/173 [00:27<00:26,  3.23it/s]"
     ]
    },
    {
     "name": "stdout",
     "output_type": "stream",
     "text": [
      "videos/CT_TT/data_in_nii/SAM2_auto_seg_nii_5shot/s0686_sam2_seg.nii.gz saved\n"
     ]
    },
    {
     "name": "stderr",
     "output_type": "stream",
     "text": [
      " 50%|█████████████████████                     | 87/173 [00:27<00:26,  3.26it/s]"
     ]
    },
    {
     "name": "stdout",
     "output_type": "stream",
     "text": [
      "videos/CT_TT/data_in_nii/SAM2_auto_seg_nii_5shot/s0705_sam2_seg.nii.gz saved\n"
     ]
    },
    {
     "name": "stderr",
     "output_type": "stream",
     "text": [
      " 51%|█████████████████████▎                    | 88/173 [00:28<00:25,  3.33it/s]"
     ]
    },
    {
     "name": "stdout",
     "output_type": "stream",
     "text": [
      "videos/CT_TT/data_in_nii/SAM2_auto_seg_nii_5shot/s0707_sam2_seg.nii.gz saved\n"
     ]
    },
    {
     "name": "stderr",
     "output_type": "stream",
     "text": [
      " 51%|█████████████████████▌                    | 89/173 [00:28<00:25,  3.25it/s]"
     ]
    },
    {
     "name": "stdout",
     "output_type": "stream",
     "text": [
      "videos/CT_TT/data_in_nii/SAM2_auto_seg_nii_5shot/s0720_sam2_seg.nii.gz saved\n"
     ]
    },
    {
     "name": "stderr",
     "output_type": "stream",
     "text": [
      " 52%|█████████████████████▊                    | 90/173 [00:28<00:25,  3.26it/s]"
     ]
    },
    {
     "name": "stdout",
     "output_type": "stream",
     "text": [
      "videos/CT_TT/data_in_nii/SAM2_auto_seg_nii_5shot/s0726_sam2_seg.nii.gz saved\n"
     ]
    },
    {
     "name": "stderr",
     "output_type": "stream",
     "text": [
      " 53%|██████████████████████                    | 91/173 [00:29<00:25,  3.25it/s]"
     ]
    },
    {
     "name": "stdout",
     "output_type": "stream",
     "text": [
      "videos/CT_TT/data_in_nii/SAM2_auto_seg_nii_5shot/s0731_sam2_seg.nii.gz saved\n"
     ]
    },
    {
     "name": "stderr",
     "output_type": "stream",
     "text": [
      " 53%|██████████████████████▎                   | 92/173 [00:29<00:24,  3.34it/s]"
     ]
    },
    {
     "name": "stdout",
     "output_type": "stream",
     "text": [
      "videos/CT_TT/data_in_nii/SAM2_auto_seg_nii_5shot/s0749_sam2_seg.nii.gz saved\n"
     ]
    },
    {
     "name": "stderr",
     "output_type": "stream",
     "text": [
      " 54%|██████████████████████▌                   | 93/173 [00:29<00:24,  3.32it/s]"
     ]
    },
    {
     "name": "stdout",
     "output_type": "stream",
     "text": [
      "videos/CT_TT/data_in_nii/SAM2_auto_seg_nii_5shot/s0762_sam2_seg.nii.gz saved\n"
     ]
    },
    {
     "name": "stderr",
     "output_type": "stream",
     "text": [
      " 54%|██████████████████████▊                   | 94/173 [00:29<00:23,  3.39it/s]"
     ]
    },
    {
     "name": "stdout",
     "output_type": "stream",
     "text": [
      "videos/CT_TT/data_in_nii/SAM2_auto_seg_nii_5shot/s0763_sam2_seg.nii.gz saved\n"
     ]
    },
    {
     "name": "stderr",
     "output_type": "stream",
     "text": [
      " 55%|███████████████████████                   | 95/173 [00:30<00:23,  3.32it/s]"
     ]
    },
    {
     "name": "stdout",
     "output_type": "stream",
     "text": [
      "videos/CT_TT/data_in_nii/SAM2_auto_seg_nii_5shot/s0777_sam2_seg.nii.gz saved\n"
     ]
    },
    {
     "name": "stderr",
     "output_type": "stream",
     "text": [
      " 55%|███████████████████████▎                  | 96/173 [00:30<00:23,  3.32it/s]"
     ]
    },
    {
     "name": "stdout",
     "output_type": "stream",
     "text": [
      "videos/CT_TT/data_in_nii/SAM2_auto_seg_nii_5shot/s0778_sam2_seg.nii.gz saved\n"
     ]
    },
    {
     "name": "stderr",
     "output_type": "stream",
     "text": [
      " 56%|███████████████████████▌                  | 97/173 [00:30<00:21,  3.47it/s]"
     ]
    },
    {
     "name": "stdout",
     "output_type": "stream",
     "text": [
      "videos/CT_TT/data_in_nii/SAM2_auto_seg_nii_5shot/s0790_sam2_seg.nii.gz saved\n"
     ]
    },
    {
     "name": "stderr",
     "output_type": "stream",
     "text": [
      " 57%|███████████████████████▊                  | 98/173 [00:31<00:22,  3.37it/s]"
     ]
    },
    {
     "name": "stdout",
     "output_type": "stream",
     "text": [
      "videos/CT_TT/data_in_nii/SAM2_auto_seg_nii_5shot/s0794_sam2_seg.nii.gz saved\n"
     ]
    },
    {
     "name": "stderr",
     "output_type": "stream",
     "text": [
      " 57%|████████████████████████                  | 99/173 [00:31<00:21,  3.38it/s]"
     ]
    },
    {
     "name": "stdout",
     "output_type": "stream",
     "text": [
      "videos/CT_TT/data_in_nii/SAM2_auto_seg_nii_5shot/s0796_sam2_seg.nii.gz saved\n"
     ]
    },
    {
     "name": "stderr",
     "output_type": "stream",
     "text": [
      " 58%|███████████████████████▋                 | 100/173 [00:31<00:21,  3.38it/s]"
     ]
    },
    {
     "name": "stdout",
     "output_type": "stream",
     "text": [
      "videos/CT_TT/data_in_nii/SAM2_auto_seg_nii_5shot/s0797_sam2_seg.nii.gz saved\n"
     ]
    },
    {
     "name": "stderr",
     "output_type": "stream",
     "text": [
      " 58%|███████████████████████▉                 | 101/173 [00:32<00:21,  3.35it/s]"
     ]
    },
    {
     "name": "stdout",
     "output_type": "stream",
     "text": [
      "videos/CT_TT/data_in_nii/SAM2_auto_seg_nii_5shot/s0835_sam2_seg.nii.gz saved\n"
     ]
    },
    {
     "name": "stderr",
     "output_type": "stream",
     "text": [
      " 59%|████████████████████████▏                | 102/173 [00:32<00:20,  3.42it/s]"
     ]
    },
    {
     "name": "stdout",
     "output_type": "stream",
     "text": [
      "videos/CT_TT/data_in_nii/SAM2_auto_seg_nii_5shot/s0862_sam2_seg.nii.gz saved\n"
     ]
    },
    {
     "name": "stderr",
     "output_type": "stream",
     "text": [
      " 60%|████████████████████████▍                | 103/173 [00:32<00:20,  3.47it/s]"
     ]
    },
    {
     "name": "stdout",
     "output_type": "stream",
     "text": [
      "videos/CT_TT/data_in_nii/SAM2_auto_seg_nii_5shot/s0863_sam2_seg.nii.gz saved\n"
     ]
    },
    {
     "name": "stderr",
     "output_type": "stream",
     "text": [
      " 60%|████████████████████████▋                | 104/173 [00:32<00:19,  3.61it/s]"
     ]
    },
    {
     "name": "stdout",
     "output_type": "stream",
     "text": [
      "videos/CT_TT/data_in_nii/SAM2_auto_seg_nii_5shot/s0864_sam2_seg.nii.gz saved\n"
     ]
    },
    {
     "name": "stderr",
     "output_type": "stream",
     "text": [
      " 61%|████████████████████████▉                | 105/173 [00:33<00:19,  3.49it/s]"
     ]
    },
    {
     "name": "stdout",
     "output_type": "stream",
     "text": [
      "videos/CT_TT/data_in_nii/SAM2_auto_seg_nii_5shot/s0869_sam2_seg.nii.gz saved\n"
     ]
    },
    {
     "name": "stderr",
     "output_type": "stream",
     "text": [
      " 61%|█████████████████████████                | 106/173 [00:33<00:19,  3.37it/s]"
     ]
    },
    {
     "name": "stdout",
     "output_type": "stream",
     "text": [
      "videos/CT_TT/data_in_nii/SAM2_auto_seg_nii_5shot/s0878_sam2_seg.nii.gz saved\n"
     ]
    },
    {
     "name": "stderr",
     "output_type": "stream",
     "text": [
      " 62%|█████████████████████████▎               | 107/173 [00:33<00:20,  3.18it/s]"
     ]
    },
    {
     "name": "stdout",
     "output_type": "stream",
     "text": [
      "videos/CT_TT/data_in_nii/SAM2_auto_seg_nii_5shot/s0880_sam2_seg.nii.gz saved\n"
     ]
    },
    {
     "name": "stderr",
     "output_type": "stream",
     "text": [
      " 62%|█████████████████████████▌               | 108/173 [00:34<00:20,  3.18it/s]"
     ]
    },
    {
     "name": "stdout",
     "output_type": "stream",
     "text": [
      "videos/CT_TT/data_in_nii/SAM2_auto_seg_nii_5shot/s0884_sam2_seg.nii.gz saved\n"
     ]
    },
    {
     "name": "stderr",
     "output_type": "stream",
     "text": [
      " 63%|█████████████████████████▊               | 109/173 [00:34<00:19,  3.30it/s]"
     ]
    },
    {
     "name": "stdout",
     "output_type": "stream",
     "text": [
      "videos/CT_TT/data_in_nii/SAM2_auto_seg_nii_5shot/s0896_sam2_seg.nii.gz saved\n"
     ]
    },
    {
     "name": "stderr",
     "output_type": "stream",
     "text": [
      " 64%|██████████████████████████               | 110/173 [00:34<00:22,  2.76it/s]"
     ]
    },
    {
     "name": "stdout",
     "output_type": "stream",
     "text": [
      "videos/CT_TT/data_in_nii/SAM2_auto_seg_nii_5shot/s0899_sam2_seg.nii.gz saved\n"
     ]
    },
    {
     "name": "stderr",
     "output_type": "stream",
     "text": [
      " 64%|██████████████████████████▎              | 111/173 [00:35<00:21,  2.83it/s]"
     ]
    },
    {
     "name": "stdout",
     "output_type": "stream",
     "text": [
      "videos/CT_TT/data_in_nii/SAM2_auto_seg_nii_5shot/s0912_sam2_seg.nii.gz saved\n"
     ]
    },
    {
     "name": "stderr",
     "output_type": "stream",
     "text": [
      " 65%|██████████████████████████▌              | 112/173 [00:35<00:21,  2.82it/s]"
     ]
    },
    {
     "name": "stdout",
     "output_type": "stream",
     "text": [
      "videos/CT_TT/data_in_nii/SAM2_auto_seg_nii_5shot/s0913_sam2_seg.nii.gz saved\n"
     ]
    },
    {
     "name": "stderr",
     "output_type": "stream",
     "text": [
      " 65%|██████████████████████████▊              | 113/173 [00:35<00:20,  3.00it/s]"
     ]
    },
    {
     "name": "stdout",
     "output_type": "stream",
     "text": [
      "videos/CT_TT/data_in_nii/SAM2_auto_seg_nii_5shot/s0924_sam2_seg.nii.gz saved\n"
     ]
    },
    {
     "name": "stderr",
     "output_type": "stream",
     "text": [
      " 66%|███████████████████████████              | 114/173 [00:36<00:20,  2.88it/s]"
     ]
    },
    {
     "name": "stdout",
     "output_type": "stream",
     "text": [
      "videos/CT_TT/data_in_nii/SAM2_auto_seg_nii_5shot/s0927_sam2_seg.nii.gz saved\n"
     ]
    },
    {
     "name": "stderr",
     "output_type": "stream",
     "text": [
      " 66%|███████████████████████████▎             | 115/173 [00:36<00:19,  2.93it/s]"
     ]
    },
    {
     "name": "stdout",
     "output_type": "stream",
     "text": [
      "videos/CT_TT/data_in_nii/SAM2_auto_seg_nii_5shot/s0928_sam2_seg.nii.gz saved\n"
     ]
    },
    {
     "name": "stderr",
     "output_type": "stream",
     "text": [
      " 67%|███████████████████████████▍             | 116/173 [00:36<00:19,  2.95it/s]"
     ]
    },
    {
     "name": "stdout",
     "output_type": "stream",
     "text": [
      "videos/CT_TT/data_in_nii/SAM2_auto_seg_nii_5shot/s0933_sam2_seg.nii.gz saved\n"
     ]
    },
    {
     "name": "stderr",
     "output_type": "stream",
     "text": [
      " 68%|███████████████████████████▋             | 117/173 [00:37<00:18,  3.09it/s]"
     ]
    },
    {
     "name": "stdout",
     "output_type": "stream",
     "text": [
      "videos/CT_TT/data_in_nii/SAM2_auto_seg_nii_5shot/s0945_sam2_seg.nii.gz saved\n"
     ]
    },
    {
     "name": "stderr",
     "output_type": "stream",
     "text": [
      " 68%|███████████████████████████▉             | 118/173 [00:37<00:18,  3.00it/s]"
     ]
    },
    {
     "name": "stdout",
     "output_type": "stream",
     "text": [
      "videos/CT_TT/data_in_nii/SAM2_auto_seg_nii_5shot/s0970_sam2_seg.nii.gz saved\n"
     ]
    },
    {
     "name": "stderr",
     "output_type": "stream",
     "text": [
      " 69%|████████████████████████████▏            | 119/173 [00:37<00:18,  2.95it/s]"
     ]
    },
    {
     "name": "stdout",
     "output_type": "stream",
     "text": [
      "videos/CT_TT/data_in_nii/SAM2_auto_seg_nii_5shot/s1012_sam2_seg.nii.gz saved\n"
     ]
    },
    {
     "name": "stderr",
     "output_type": "stream",
     "text": [
      " 69%|████████████████████████████▍            | 120/173 [00:38<00:18,  2.93it/s]"
     ]
    },
    {
     "name": "stdout",
     "output_type": "stream",
     "text": [
      "videos/CT_TT/data_in_nii/SAM2_auto_seg_nii_5shot/s1031_sam2_seg.nii.gz saved\n"
     ]
    },
    {
     "name": "stderr",
     "output_type": "stream",
     "text": [
      " 70%|████████████████████████████▋            | 121/173 [00:38<00:18,  2.86it/s]"
     ]
    },
    {
     "name": "stdout",
     "output_type": "stream",
     "text": [
      "videos/CT_TT/data_in_nii/SAM2_auto_seg_nii_5shot/s1044_sam2_seg.nii.gz saved\n"
     ]
    },
    {
     "name": "stderr",
     "output_type": "stream",
     "text": [
      " 71%|████████████████████████████▉            | 122/173 [00:38<00:16,  3.03it/s]"
     ]
    },
    {
     "name": "stdout",
     "output_type": "stream",
     "text": [
      "videos/CT_TT/data_in_nii/SAM2_auto_seg_nii_5shot/s1061_sam2_seg.nii.gz saved\n"
     ]
    },
    {
     "name": "stderr",
     "output_type": "stream",
     "text": [
      " 71%|█████████████████████████████▏           | 123/173 [00:39<00:17,  2.80it/s]"
     ]
    },
    {
     "name": "stdout",
     "output_type": "stream",
     "text": [
      "videos/CT_TT/data_in_nii/SAM2_auto_seg_nii_5shot/s1082_sam2_seg.nii.gz saved\n"
     ]
    },
    {
     "name": "stderr",
     "output_type": "stream",
     "text": [
      " 72%|█████████████████████████████▍           | 124/173 [00:39<00:17,  2.84it/s]"
     ]
    },
    {
     "name": "stdout",
     "output_type": "stream",
     "text": [
      "videos/CT_TT/data_in_nii/SAM2_auto_seg_nii_5shot/s1090_sam2_seg.nii.gz saved\n"
     ]
    },
    {
     "name": "stderr",
     "output_type": "stream",
     "text": [
      " 72%|█████████████████████████████▌           | 125/173 [00:40<00:16,  2.87it/s]"
     ]
    },
    {
     "name": "stdout",
     "output_type": "stream",
     "text": [
      "videos/CT_TT/data_in_nii/SAM2_auto_seg_nii_5shot/s1099_sam2_seg.nii.gz saved\n"
     ]
    },
    {
     "name": "stderr",
     "output_type": "stream",
     "text": [
      " 73%|█████████████████████████████▊           | 126/173 [00:40<00:16,  2.78it/s]"
     ]
    },
    {
     "name": "stdout",
     "output_type": "stream",
     "text": [
      "videos/CT_TT/data_in_nii/SAM2_auto_seg_nii_5shot/s1123_sam2_seg.nii.gz saved\n"
     ]
    },
    {
     "name": "stderr",
     "output_type": "stream",
     "text": [
      " 73%|██████████████████████████████           | 127/173 [00:40<00:16,  2.86it/s]"
     ]
    },
    {
     "name": "stdout",
     "output_type": "stream",
     "text": [
      "videos/CT_TT/data_in_nii/SAM2_auto_seg_nii_5shot/s1130_sam2_seg.nii.gz saved\n"
     ]
    },
    {
     "name": "stderr",
     "output_type": "stream",
     "text": [
      " 74%|██████████████████████████████▎          | 128/173 [00:41<00:15,  2.97it/s]"
     ]
    },
    {
     "name": "stdout",
     "output_type": "stream",
     "text": [
      "videos/CT_TT/data_in_nii/SAM2_auto_seg_nii_5shot/s1135_sam2_seg.nii.gz saved\n"
     ]
    },
    {
     "name": "stderr",
     "output_type": "stream",
     "text": [
      " 75%|██████████████████████████████▌          | 129/173 [00:41<00:15,  2.85it/s]"
     ]
    },
    {
     "name": "stdout",
     "output_type": "stream",
     "text": [
      "videos/CT_TT/data_in_nii/SAM2_auto_seg_nii_5shot/s1152_sam2_seg.nii.gz saved\n"
     ]
    },
    {
     "name": "stderr",
     "output_type": "stream",
     "text": [
      " 75%|██████████████████████████████▊          | 130/173 [00:41<00:15,  2.85it/s]"
     ]
    },
    {
     "name": "stdout",
     "output_type": "stream",
     "text": [
      "videos/CT_TT/data_in_nii/SAM2_auto_seg_nii_5shot/s1161_sam2_seg.nii.gz saved\n"
     ]
    },
    {
     "name": "stderr",
     "output_type": "stream",
     "text": [
      " 76%|███████████████████████████████          | 131/173 [00:42<00:14,  2.92it/s]"
     ]
    },
    {
     "name": "stdout",
     "output_type": "stream",
     "text": [
      "videos/CT_TT/data_in_nii/SAM2_auto_seg_nii_5shot/s1187_sam2_seg.nii.gz saved\n"
     ]
    },
    {
     "name": "stderr",
     "output_type": "stream",
     "text": [
      " 76%|███████████████████████████████▎         | 132/173 [00:42<00:13,  3.03it/s]"
     ]
    },
    {
     "name": "stdout",
     "output_type": "stream",
     "text": [
      "videos/CT_TT/data_in_nii/SAM2_auto_seg_nii_5shot/s1207_sam2_seg.nii.gz saved\n"
     ]
    },
    {
     "name": "stderr",
     "output_type": "stream",
     "text": [
      " 77%|███████████████████████████████▌         | 133/173 [00:42<00:12,  3.08it/s]"
     ]
    },
    {
     "name": "stdout",
     "output_type": "stream",
     "text": [
      "videos/CT_TT/data_in_nii/SAM2_auto_seg_nii_5shot/s1224_sam2_seg.nii.gz saved\n"
     ]
    },
    {
     "name": "stderr",
     "output_type": "stream",
     "text": [
      " 77%|███████████████████████████████▊         | 134/173 [00:43<00:12,  3.10it/s]"
     ]
    },
    {
     "name": "stdout",
     "output_type": "stream",
     "text": [
      "videos/CT_TT/data_in_nii/SAM2_auto_seg_nii_5shot/s1236_sam2_seg.nii.gz saved\n"
     ]
    },
    {
     "name": "stderr",
     "output_type": "stream",
     "text": [
      " 78%|███████████████████████████████▉         | 135/173 [00:43<00:12,  3.05it/s]"
     ]
    },
    {
     "name": "stdout",
     "output_type": "stream",
     "text": [
      "videos/CT_TT/data_in_nii/SAM2_auto_seg_nii_5shot/s1238_sam2_seg.nii.gz saved\n"
     ]
    },
    {
     "name": "stderr",
     "output_type": "stream",
     "text": [
      " 79%|████████████████████████████████▏        | 136/173 [00:43<00:11,  3.31it/s]"
     ]
    },
    {
     "name": "stdout",
     "output_type": "stream",
     "text": [
      "videos/CT_TT/data_in_nii/SAM2_auto_seg_nii_5shot/s1240_sam2_seg.nii.gz saved\n"
     ]
    },
    {
     "name": "stderr",
     "output_type": "stream",
     "text": [
      " 79%|████████████████████████████████▍        | 137/173 [00:43<00:10,  3.48it/s]"
     ]
    },
    {
     "name": "stdout",
     "output_type": "stream",
     "text": [
      "videos/CT_TT/data_in_nii/SAM2_auto_seg_nii_5shot/s1247_sam2_seg.nii.gz saved\n"
     ]
    },
    {
     "name": "stderr",
     "output_type": "stream",
     "text": [
      " 80%|████████████████████████████████▋        | 138/173 [00:44<00:11,  3.03it/s]"
     ]
    },
    {
     "name": "stdout",
     "output_type": "stream",
     "text": [
      "videos/CT_TT/data_in_nii/SAM2_auto_seg_nii_5shot/s1249_sam2_seg.nii.gz saved\n"
     ]
    },
    {
     "name": "stderr",
     "output_type": "stream",
     "text": [
      " 80%|████████████████████████████████▉        | 139/173 [00:44<00:10,  3.10it/s]"
     ]
    },
    {
     "name": "stdout",
     "output_type": "stream",
     "text": [
      "videos/CT_TT/data_in_nii/SAM2_auto_seg_nii_5shot/s1251_sam2_seg.nii.gz saved\n"
     ]
    },
    {
     "name": "stderr",
     "output_type": "stream",
     "text": [
      " 81%|█████████████████████████████████▏       | 140/173 [00:44<00:10,  3.18it/s]"
     ]
    },
    {
     "name": "stdout",
     "output_type": "stream",
     "text": [
      "videos/CT_TT/data_in_nii/SAM2_auto_seg_nii_5shot/s1256_sam2_seg.nii.gz saved\n"
     ]
    },
    {
     "name": "stderr",
     "output_type": "stream",
     "text": [
      " 82%|█████████████████████████████████▍       | 141/173 [00:45<00:09,  3.51it/s]"
     ]
    },
    {
     "name": "stdout",
     "output_type": "stream",
     "text": [
      "videos/CT_TT/data_in_nii/SAM2_auto_seg_nii_5shot/s1264_sam2_seg.nii.gz saved\n"
     ]
    },
    {
     "name": "stderr",
     "output_type": "stream",
     "text": [
      " 82%|█████████████████████████████████▋       | 142/173 [00:45<00:09,  3.17it/s]"
     ]
    },
    {
     "name": "stdout",
     "output_type": "stream",
     "text": [
      "videos/CT_TT/data_in_nii/SAM2_auto_seg_nii_5shot/s1273_sam2_seg.nii.gz saved\n"
     ]
    },
    {
     "name": "stderr",
     "output_type": "stream",
     "text": [
      " 83%|█████████████████████████████████▉       | 143/173 [00:45<00:09,  3.07it/s]"
     ]
    },
    {
     "name": "stdout",
     "output_type": "stream",
     "text": [
      "videos/CT_TT/data_in_nii/SAM2_auto_seg_nii_5shot/s1283_sam2_seg.nii.gz saved\n"
     ]
    },
    {
     "name": "stderr",
     "output_type": "stream",
     "text": [
      " 83%|██████████████████████████████████▏      | 144/173 [00:46<00:09,  2.93it/s]"
     ]
    },
    {
     "name": "stdout",
     "output_type": "stream",
     "text": [
      "videos/CT_TT/data_in_nii/SAM2_auto_seg_nii_5shot/s1293_sam2_seg.nii.gz saved\n"
     ]
    },
    {
     "name": "stderr",
     "output_type": "stream",
     "text": [
      " 84%|██████████████████████████████████▎      | 145/173 [00:46<00:09,  2.85it/s]"
     ]
    },
    {
     "name": "stdout",
     "output_type": "stream",
     "text": [
      "videos/CT_TT/data_in_nii/SAM2_auto_seg_nii_5shot/s1304_sam2_seg.nii.gz saved\n"
     ]
    },
    {
     "name": "stderr",
     "output_type": "stream",
     "text": [
      " 84%|██████████████████████████████████▌      | 146/173 [00:46<00:08,  3.04it/s]"
     ]
    },
    {
     "name": "stdout",
     "output_type": "stream",
     "text": [
      "videos/CT_TT/data_in_nii/SAM2_auto_seg_nii_5shot/s1321_sam2_seg.nii.gz saved\n"
     ]
    },
    {
     "name": "stderr",
     "output_type": "stream",
     "text": [
      " 85%|██████████████████████████████████▊      | 147/173 [00:47<00:08,  3.09it/s]"
     ]
    },
    {
     "name": "stdout",
     "output_type": "stream",
     "text": [
      "videos/CT_TT/data_in_nii/SAM2_auto_seg_nii_5shot/s1340_sam2_seg.nii.gz saved\n"
     ]
    },
    {
     "name": "stderr",
     "output_type": "stream",
     "text": [
      " 86%|███████████████████████████████████      | 148/173 [00:47<00:08,  3.09it/s]"
     ]
    },
    {
     "name": "stdout",
     "output_type": "stream",
     "text": [
      "videos/CT_TT/data_in_nii/SAM2_auto_seg_nii_5shot/s1347_sam2_seg.nii.gz saved\n"
     ]
    },
    {
     "name": "stderr",
     "output_type": "stream",
     "text": [
      " 86%|███████████████████████████████████▎     | 149/173 [00:47<00:07,  3.11it/s]"
     ]
    },
    {
     "name": "stdout",
     "output_type": "stream",
     "text": [
      "videos/CT_TT/data_in_nii/SAM2_auto_seg_nii_5shot/s1350_sam2_seg.nii.gz saved\n"
     ]
    },
    {
     "name": "stderr",
     "output_type": "stream",
     "text": [
      " 87%|███████████████████████████████████▌     | 150/173 [00:48<00:07,  3.16it/s]"
     ]
    },
    {
     "name": "stdout",
     "output_type": "stream",
     "text": [
      "videos/CT_TT/data_in_nii/SAM2_auto_seg_nii_5shot/s1355_sam2_seg.nii.gz saved\n"
     ]
    },
    {
     "name": "stderr",
     "output_type": "stream",
     "text": [
      " 87%|███████████████████████████████████▊     | 151/173 [00:48<00:07,  2.96it/s]"
     ]
    },
    {
     "name": "stdout",
     "output_type": "stream",
     "text": [
      "videos/CT_TT/data_in_nii/SAM2_auto_seg_nii_5shot/s1361_sam2_seg.nii.gz saved\n"
     ]
    },
    {
     "name": "stderr",
     "output_type": "stream",
     "text": [
      " 88%|████████████████████████████████████     | 152/173 [00:48<00:06,  3.10it/s]"
     ]
    },
    {
     "name": "stdout",
     "output_type": "stream",
     "text": [
      "videos/CT_TT/data_in_nii/SAM2_auto_seg_nii_5shot/s1362_sam2_seg.nii.gz saved\n"
     ]
    },
    {
     "name": "stderr",
     "output_type": "stream",
     "text": [
      " 88%|████████████████████████████████████▎    | 153/173 [00:49<00:06,  3.11it/s]"
     ]
    },
    {
     "name": "stdout",
     "output_type": "stream",
     "text": [
      "videos/CT_TT/data_in_nii/SAM2_auto_seg_nii_5shot/s1363_sam2_seg.nii.gz saved\n"
     ]
    },
    {
     "name": "stderr",
     "output_type": "stream",
     "text": [
      " 89%|████████████████████████████████████▍    | 154/173 [00:49<00:05,  3.19it/s]"
     ]
    },
    {
     "name": "stdout",
     "output_type": "stream",
     "text": [
      "videos/CT_TT/data_in_nii/SAM2_auto_seg_nii_5shot/s1365_sam2_seg.nii.gz saved\n"
     ]
    },
    {
     "name": "stderr",
     "output_type": "stream",
     "text": [
      " 90%|████████████████████████████████████▋    | 155/173 [00:49<00:05,  3.22it/s]"
     ]
    },
    {
     "name": "stdout",
     "output_type": "stream",
     "text": [
      "videos/CT_TT/data_in_nii/SAM2_auto_seg_nii_5shot/s1367_sam2_seg.nii.gz saved\n"
     ]
    },
    {
     "name": "stderr",
     "output_type": "stream",
     "text": [
      " 90%|████████████████████████████████████▉    | 156/173 [00:50<00:05,  3.33it/s]"
     ]
    },
    {
     "name": "stdout",
     "output_type": "stream",
     "text": [
      "videos/CT_TT/data_in_nii/SAM2_auto_seg_nii_5shot/s1369_sam2_seg.nii.gz saved\n"
     ]
    },
    {
     "name": "stderr",
     "output_type": "stream",
     "text": [
      " 91%|█████████████████████████████████████▏   | 157/173 [00:50<00:05,  3.15it/s]"
     ]
    },
    {
     "name": "stdout",
     "output_type": "stream",
     "text": [
      "videos/CT_TT/data_in_nii/SAM2_auto_seg_nii_5shot/s1371_sam2_seg.nii.gz saved\n"
     ]
    },
    {
     "name": "stderr",
     "output_type": "stream",
     "text": [
      " 91%|█████████████████████████████████████▍   | 158/173 [00:50<00:04,  3.19it/s]"
     ]
    },
    {
     "name": "stdout",
     "output_type": "stream",
     "text": [
      "videos/CT_TT/data_in_nii/SAM2_auto_seg_nii_5shot/s1375_sam2_seg.nii.gz saved\n"
     ]
    },
    {
     "name": "stderr",
     "output_type": "stream",
     "text": [
      " 92%|█████████████████████████████████████▋   | 159/173 [00:50<00:04,  3.30it/s]"
     ]
    },
    {
     "name": "stdout",
     "output_type": "stream",
     "text": [
      "videos/CT_TT/data_in_nii/SAM2_auto_seg_nii_5shot/s1379_sam2_seg.nii.gz saved\n"
     ]
    },
    {
     "name": "stderr",
     "output_type": "stream",
     "text": [
      " 92%|█████████████████████████████████████▉   | 160/173 [00:51<00:03,  3.37it/s]"
     ]
    },
    {
     "name": "stdout",
     "output_type": "stream",
     "text": [
      "videos/CT_TT/data_in_nii/SAM2_auto_seg_nii_5shot/s1380_sam2_seg.nii.gz saved\n"
     ]
    },
    {
     "name": "stderr",
     "output_type": "stream",
     "text": [
      " 93%|██████████████████████████████████████▏  | 161/173 [00:51<00:03,  3.22it/s]"
     ]
    },
    {
     "name": "stdout",
     "output_type": "stream",
     "text": [
      "videos/CT_TT/data_in_nii/SAM2_auto_seg_nii_5shot/s1382_sam2_seg.nii.gz saved\n"
     ]
    },
    {
     "name": "stderr",
     "output_type": "stream",
     "text": [
      " 94%|██████████████████████████████████████▍  | 162/173 [00:51<00:03,  3.25it/s]"
     ]
    },
    {
     "name": "stdout",
     "output_type": "stream",
     "text": [
      "videos/CT_TT/data_in_nii/SAM2_auto_seg_nii_5shot/s1383_sam2_seg.nii.gz saved\n"
     ]
    },
    {
     "name": "stderr",
     "output_type": "stream",
     "text": [
      " 94%|██████████████████████████████████████▋  | 163/173 [00:52<00:03,  3.04it/s]"
     ]
    },
    {
     "name": "stdout",
     "output_type": "stream",
     "text": [
      "videos/CT_TT/data_in_nii/SAM2_auto_seg_nii_5shot/s1384_sam2_seg.nii.gz saved\n"
     ]
    },
    {
     "name": "stderr",
     "output_type": "stream",
     "text": [
      " 95%|██████████████████████████████████████▊  | 164/173 [00:52<00:02,  3.01it/s]"
     ]
    },
    {
     "name": "stdout",
     "output_type": "stream",
     "text": [
      "videos/CT_TT/data_in_nii/SAM2_auto_seg_nii_5shot/s1390_sam2_seg.nii.gz saved\n"
     ]
    },
    {
     "name": "stderr",
     "output_type": "stream",
     "text": [
      " 95%|███████████████████████████████████████  | 165/173 [00:52<00:02,  3.13it/s]"
     ]
    },
    {
     "name": "stdout",
     "output_type": "stream",
     "text": [
      "videos/CT_TT/data_in_nii/SAM2_auto_seg_nii_5shot/s1394_sam2_seg.nii.gz saved\n"
     ]
    },
    {
     "name": "stderr",
     "output_type": "stream",
     "text": [
      " 96%|███████████████████████████████████████▎ | 166/173 [00:53<00:02,  3.09it/s]"
     ]
    },
    {
     "name": "stdout",
     "output_type": "stream",
     "text": [
      "videos/CT_TT/data_in_nii/SAM2_auto_seg_nii_5shot/s1395_sam2_seg.nii.gz saved\n"
     ]
    },
    {
     "name": "stderr",
     "output_type": "stream",
     "text": [
      " 97%|███████████████████████████████████████▌ | 167/173 [00:53<00:01,  3.24it/s]"
     ]
    },
    {
     "name": "stdout",
     "output_type": "stream",
     "text": [
      "videos/CT_TT/data_in_nii/SAM2_auto_seg_nii_5shot/s1397_sam2_seg.nii.gz saved\n"
     ]
    },
    {
     "name": "stderr",
     "output_type": "stream",
     "text": [
      " 97%|███████████████████████████████████████▊ | 168/173 [00:53<00:01,  3.22it/s]"
     ]
    },
    {
     "name": "stdout",
     "output_type": "stream",
     "text": [
      "videos/CT_TT/data_in_nii/SAM2_auto_seg_nii_5shot/s1400_sam2_seg.nii.gz saved\n"
     ]
    },
    {
     "name": "stderr",
     "output_type": "stream",
     "text": [
      " 98%|████████████████████████████████████████ | 169/173 [00:54<00:01,  3.33it/s]"
     ]
    },
    {
     "name": "stdout",
     "output_type": "stream",
     "text": [
      "videos/CT_TT/data_in_nii/SAM2_auto_seg_nii_5shot/s1403_sam2_seg.nii.gz saved\n"
     ]
    },
    {
     "name": "stderr",
     "output_type": "stream",
     "text": [
      " 98%|████████████████████████████████████████▎| 170/173 [00:54<00:00,  3.47it/s]"
     ]
    },
    {
     "name": "stdout",
     "output_type": "stream",
     "text": [
      "videos/CT_TT/data_in_nii/SAM2_auto_seg_nii_5shot/s1411_sam2_seg.nii.gz saved\n"
     ]
    },
    {
     "name": "stderr",
     "output_type": "stream",
     "text": [
      " 99%|████████████████████████████████████████▌| 171/173 [00:54<00:00,  3.48it/s]"
     ]
    },
    {
     "name": "stdout",
     "output_type": "stream",
     "text": [
      "videos/CT_TT/data_in_nii/SAM2_auto_seg_nii_5shot/s1415_sam2_seg.nii.gz saved\n"
     ]
    },
    {
     "name": "stderr",
     "output_type": "stream",
     "text": [
      " 99%|████████████████████████████████████████▊| 172/173 [00:54<00:00,  3.65it/s]"
     ]
    },
    {
     "name": "stdout",
     "output_type": "stream",
     "text": [
      "videos/CT_TT/data_in_nii/SAM2_auto_seg_nii_5shot/s1423_sam2_seg.nii.gz saved\n"
     ]
    },
    {
     "name": "stderr",
     "output_type": "stream",
     "text": [
      "100%|█████████████████████████████████████████| 173/173 [00:55<00:00,  3.13it/s]"
     ]
    },
    {
     "name": "stdout",
     "output_type": "stream",
     "text": [
      "videos/CT_TT/data_in_nii/SAM2_auto_seg_nii_5shot/s1424_sam2_seg.nii.gz saved\n"
     ]
    },
    {
     "name": "stderr",
     "output_type": "stream",
     "text": [
      "\n"
     ]
    }
   ],
   "source": [
    "import os\n",
    "import glob\n",
    "import numpy as np\n",
    "import pandas as pd\n",
    "import cv2\n",
    "from tqdm import tqdm\n",
    "from scipy.ndimage import label, binary_fill_holes\n",
    "\n",
    "\n",
    "dataset = 'CT_TT'  # 例如 'AFL_MRI' 或 'Bedrest'\n",
    "\n",
    "\n",
    "base_dir = f'videos/{dataset}'\n",
    "seed_count = 3\n",
    "seed_count = 1\n",
    "seed_count = 5\n",
    "\n",
    "seed_count = str(seed_count  )\n",
    "data_dir = os.path.join(base_dir, 'data_in_jpg')\n",
    "csv_path = os.path.join(data_dir, f'{dataset}_4class_IOU_all_pid_with_full_mapping_{seed_count}seed.csv')\n",
    "img_dir = os.path.join(base_dir, 'data_in_nii', 'img_in_nii_L4L5')\n",
    "# sam2_root = os.path.join(data_dir, 'sam2_results_by_pid')\n",
    "sam2_root = os.path.join(data_dir, 'sam2_results_by_pid_'+seed_count+'seed')\n",
    " \n",
    "# save_seg_dir = os.path.join(base_dir, 'data_in_nii', 'SAM2_auto_seg_nii_3shot')\n",
    "save_seg_dir = os.path.join(base_dir, 'data_in_nii', 'SAM2_auto_seg_nii_'+seed_count+'shot')\n",
    "\n",
    "os.makedirs(save_seg_dir, exist_ok=True)\n",
    "\n",
    "if dataset == 'Bedrest':\n",
    "    img_dir = os.path.join(base_dir, 'data_in_nii', 'img_in_nii_water_72_L4L5')\n",
    "\n",
    "class_values = [50, 100, 150, 200]  # 类别对应的灰度值\n",
    "\n",
    "df = pd.read_csv(csv_path)\n",
    "\n",
    "for pid, group in tqdm(df.groupby('pid')):\n",
    "    group = group.sort_values('slice_id').reset_index(drop=True)\n",
    "    frame_ids = group['frame_idx'].tolist()\n",
    "    slice_ids = group['slice_id'].tolist()\n",
    "\n",
    "    img_path_list = glob.glob(os.path.join(img_dir, f\"{pid}*.nii.gz\"))\n",
    "    if not img_path_list:\n",
    "        print(f\"❌ Image not found for {pid}\")\n",
    "        continue\n",
    "    if len(img_path_list) > 1:\n",
    "        print(f\"⚠️ Multiple image files found for {pid}, using the first one.\")\n",
    "    img_path = img_path_list[0]\n",
    "\n",
    "    img = sitk.ReadImage(img_path)\n",
    "    img_array = sitk.GetArrayFromImage(img)\n",
    "    H, W = img_array.shape[1:]  # (slice, height, width)\n",
    "\n",
    "    sam2_pred_dir = os.path.join(sam2_root, pid, 'SAM2_seg_mask_nolap')\n",
    "\n",
    "    seg_array = []\n",
    "\n",
    "    for frame_id, slice_id in zip(frame_ids, slice_ids):\n",
    "        per_class_masks = []\n",
    "        for i, class_val in enumerate(class_values):\n",
    "            png_path = os.path.join(sam2_pred_dir, f\"frame_{frame_id}_obj_{i+1}.png\")\n",
    "            if not os.path.exists(png_path):\n",
    "                print(f\"⚠️ Missing mask: {png_path}\")\n",
    "                continue\n",
    "            mask = cv2.imread(png_path, cv2.IMREAD_GRAYSCALE)\n",
    "            mask_bin = (np.abs(mask - class_val) < 10).astype(np.uint8)\n",
    "            mask_clean = keep_largest_connected_component(mask_bin)  # 保留最大连通域\n",
    "            mask_resized = cv2.resize(mask_clean, (W, H), interpolation=cv2.INTER_NEAREST)\n",
    "            per_class_masks.append(mask_resized)\n",
    "\n",
    "        if len(per_class_masks) != len(class_values):\n",
    "            print(f\"❌ Incomplete masks for {pid} frame {frame_id}, skipping this slice\")\n",
    "            continue\n",
    "\n",
    "        multi_mask = np.zeros((H, W), dtype=np.uint8)\n",
    "        for cls_idx, binary_mask in enumerate(per_class_masks):\n",
    "            multi_mask[binary_mask > 0] = cls_idx + 1\n",
    "\n",
    "        if 'ID' in pid or 'CT_TT' in dataset:\n",
    "            multi_mask = np.rot90(multi_mask, 2)  # 旋转180度\n",
    "\n",
    "        seg_array.append(multi_mask)\n",
    "\n",
    "    if not seg_array:\n",
    "        print(f\"⚠️ No valid segmentation slices for {pid}, skipping saving\")\n",
    "        continue\n",
    "\n",
    "    seg_stack = np.stack(seg_array)\n",
    "    for class_idx in range(1, len(class_values) + 1):\n",
    "        class_mask_3d = (seg_stack == class_idx).astype(np.uint8)\n",
    "        class_mask_3d_clean = keep_largest_connected_component(class_mask_3d)\n",
    "        seg_stack[seg_stack == class_idx] = 0\n",
    "        seg_stack[class_mask_3d_clean > 0] = class_idx\n",
    "\n",
    "\n",
    "    save_path = os.path.join(save_seg_dir, f\"{pid}_sam2_seg.nii.gz\")\n",
    "    save_array_to_nii(seg_stack, img_path, save_path)"
   ]
  },
  {
   "cell_type": "code",
   "execution_count": 17,
   "id": "6fa9f4c0",
   "metadata": {
    "scrolled": true
   },
   "outputs": [
    {
     "name": "stderr",
     "output_type": "stream",
     "text": [
      "  5%|██▏                                        | 9/173 [00:00<00:01, 82.75it/s]"
     ]
    },
    {
     "name": "stdout",
     "output_type": "stream",
     "text": [
      "s0928 processing\n",
      "s0835 processing\n",
      "s1423 processing\n",
      "s0467 processing\n",
      "s0862 processing\n",
      "s0649 processing\n",
      "s0613 processing\n",
      "s0650 processing\n",
      "s1379 processing\n",
      "s0178 processing\n",
      "s1321 processing\n",
      "s0677 processing\n",
      "s0227 processing\n",
      "s0777 processing\n",
      "s0320 processing\n",
      "s0076 processing\n",
      "s0546 processing\n",
      "s1304 processing\n"
     ]
    },
    {
     "name": "stderr",
     "output_type": "stream",
     "text": [
      " 17%|███████                                   | 29/173 [00:00<00:01, 93.03it/s]"
     ]
    },
    {
     "name": "stdout",
     "output_type": "stream",
     "text": [
      "s1394 processing\n",
      "s1283 processing\n",
      "s0794 processing\n",
      "s0071 processing\n",
      "s0878 processing\n",
      "s0472 processing\n",
      "s0584 processing\n",
      "s1293 processing\n",
      "s0720 processing\n",
      "s0536 processing\n",
      "s0762 processing\n",
      "s0899 processing\n",
      "s1130 processing\n",
      "s0970 processing\n",
      "s0577 processing\n",
      "s0015 processing\n",
      "s0196 processing\n",
      "s0593 processing\n",
      "s0350 processing\n",
      "s0078 processing\n"
     ]
    },
    {
     "name": "stderr",
     "output_type": "stream",
     "text": [
      " 28%|███████████▉                              | 49/173 [00:00<00:01, 94.69it/s]"
     ]
    },
    {
     "name": "stdout",
     "output_type": "stream",
     "text": [
      "s0519 processing\n",
      "s0355 processing\n",
      "s0244 processing\n",
      "s1273 processing\n",
      "s0790 processing\n",
      "s0029 processing\n",
      "s0945 processing\n",
      "s1390 processing\n",
      "s0686 processing\n",
      "s1375 processing\n",
      "s1355 processing\n",
      "s0028 processing\n",
      "s0328 processing\n",
      "s0683 processing\n",
      "s0662 processing\n",
      "s0669 processing\n",
      "s0896 processing\n",
      "s1384 processing\n",
      "s0408 processing\n"
     ]
    },
    {
     "name": "stderr",
     "output_type": "stream",
     "text": [
      " 40%|████████████████▊                         | 69/173 [00:00<00:01, 89.76it/s]"
     ]
    },
    {
     "name": "stdout",
     "output_type": "stream",
     "text": [
      "s0402 processing\n",
      "s1135 processing\n",
      "s0325 processing\n",
      "s0022 processing\n",
      "s0541 processing\n",
      "s1369 processing\n",
      "s1090 processing\n",
      "s0621 processing\n",
      "s0635 processing\n",
      "s0133 processing\n",
      "s0188 processing\n",
      "s0924 processing\n",
      "s0091 processing\n",
      "s1397 processing\n",
      "s1061 processing\n",
      "s0216 processing\n",
      "s1224 processing\n",
      "s0366 processing\n",
      "s0403 processing\n"
     ]
    },
    {
     "name": "stderr",
     "output_type": "stream",
     "text": [
      " 51%|█████████████████████▌                    | 89/173 [00:00<00:00, 90.71it/s]"
     ]
    },
    {
     "name": "stdout",
     "output_type": "stream",
     "text": [
      "s0072 processing\n",
      "s0314 processing\n",
      "s0500 processing\n",
      "s1256 processing\n",
      "s0016 processing\n",
      "s1383 processing\n",
      "s0707 processing\n",
      "s0406 processing\n",
      "s1395 processing\n",
      "s0163 processing\n",
      "s0300 processing\n",
      "s0796 processing\n",
      "s0912 processing\n",
      "s0362 processing\n",
      "s0456 processing\n",
      "s0587 processing\n",
      "s0031 processing\n",
      "s0224 processing\n"
     ]
    },
    {
     "name": "stderr",
     "output_type": "stream",
     "text": [
      " 63%|█████████████████████████▊               | 109/173 [00:01<00:00, 90.30it/s]"
     ]
    },
    {
     "name": "stdout",
     "output_type": "stream",
     "text": [
      "s0010 processing\n",
      "s1403 processing\n",
      "s0726 processing\n",
      "s0763 processing\n",
      "s1362 processing\n",
      "s1207 processing\n",
      "s0927 processing\n",
      "s0011 processing\n",
      "s0749 processing\n",
      "s1187 processing\n",
      "s1238 processing\n",
      "s1236 processing\n",
      "s0863 processing\n",
      "s1371 processing\n",
      "s0913 processing\n",
      "s0042 processing\n",
      "s1347 processing\n",
      "s0260 processing\n",
      "s0239 processing\n"
     ]
    },
    {
     "name": "stderr",
     "output_type": "stream",
     "text": [
      " 75%|██████████████████████████████▌          | 129/173 [00:01<00:00, 90.24it/s]"
     ]
    },
    {
     "name": "stdout",
     "output_type": "stream",
     "text": [
      "s0543 processing\n",
      "s0275 processing\n",
      "s1367 processing\n",
      "s0705 processing\n",
      "s0884 processing\n",
      "s1382 processing\n",
      "s0731 processing\n",
      "s1363 processing\n",
      "s1012 processing\n",
      "s0880 processing\n",
      "s1240 processing\n",
      "s1340 processing\n",
      "s1044 processing\n",
      "s1350 processing\n",
      "s0612 processing\n",
      "s0657 processing\n",
      "s0375 processing\n",
      "s1251 processing\n",
      "s0550 processing\n"
     ]
    },
    {
     "name": "stderr",
     "output_type": "stream",
     "text": [
      " 87%|███████████████████████████████████▌     | 150/173 [00:01<00:00, 92.37it/s]"
     ]
    },
    {
     "name": "stdout",
     "output_type": "stream",
     "text": [
      "s1247 processing\n",
      "s0442 processing\n",
      "s1424 processing\n",
      "s0024 processing\n",
      "s0332 processing\n",
      "s0255 processing\n",
      "s0797 processing\n",
      "s0287 processing\n",
      "s0104 processing\n",
      "s0864 processing\n",
      "s0476 processing\n",
      "s0040 processing\n",
      "s1400 processing\n",
      "s1249 processing\n",
      "s1123 processing\n",
      "s1031 processing\n",
      "s0014 processing\n",
      "s0447 processing\n",
      "s0664 processing\n"
     ]
    },
    {
     "name": "stderr",
     "output_type": "stream",
     "text": [
      " 92%|█████████████████████████████████████▉   | 160/173 [00:01<00:00, 91.69it/s]"
     ]
    },
    {
     "name": "stdout",
     "output_type": "stream",
     "text": [
      "s1365 processing\n",
      "s0778 processing\n",
      "s0628 processing\n",
      "s0034 processing\n",
      "s1411 processing\n",
      "s0589 processing\n",
      "s1361 processing\n",
      "s0053 processing\n",
      "s1380 processing\n",
      "s1161 processing\n",
      "s0201 processing\n",
      "s1264 processing\n",
      "s1152 processing\n",
      "s0428 processing\n",
      "s0869 processing\n",
      "s0483 processing\n",
      "s1099 processing\n",
      "s1415 processing\n",
      "s0933 processing\n"
     ]
    },
    {
     "name": "stderr",
     "output_type": "stream",
     "text": [
      "100%|█████████████████████████████████████████| 173/173 [00:01<00:00, 90.82it/s]"
     ]
    },
    {
     "name": "stdout",
     "output_type": "stream",
     "text": [
      "s1082 processing\n",
      "s0096 processing\n",
      "s0334 processing\n"
     ]
    },
    {
     "name": "stderr",
     "output_type": "stream",
     "text": [
      "\n"
     ]
    }
   ],
   "source": [
    "\n",
    "def dice_coefficient(pred, gt, class_id):\n",
    "    pred_bin = (pred == class_id)\n",
    "    gt_bin = (gt == class_id)\n",
    "    intersection = np.sum(pred_bin & gt_bin)\n",
    "    volume_sum = np.sum(pred_bin) + np.sum(gt_bin)\n",
    "    if volume_sum == 0:\n",
    "        return 1.0\n",
    "    return 2 * intersection / volume_sum\n",
    "\n",
    "\n",
    "base_dir = f'videos/{dataset}'\n",
    "# save_seg_dir = os.path.join(base_dir, 'data_in_nii', 'SAM2_auto_seg_nii')\n",
    "label_dir = os.path.join(base_dir, 'data_in_nii', 'label_in_nii_L4L5_4class')\n",
    "if dataset == 'Bedrest':\n",
    "    label_dir = os.path.join(base_dir, 'data_in_nii', 'label_in_nii_72_water_72_L4L5')\n",
    "\n",
    "class_ids = [1, 2,3 ,4]\n",
    "\n",
    "results = []\n",
    "for fname in tqdm(os.listdir(save_seg_dir)):\n",
    "    if not fname.endswith('.nii.gz'):\n",
    "        continue\n",
    "    pid = fname.replace('_sam2_seg.nii.gz', '')\n",
    "    pid = pid.replace('_L4L5_lcc_combined.nii.gz', '')\n",
    "    pred_path = os.path.join(save_seg_dir, fname)\n",
    "    print(pid, 'processing')\n",
    "    label_path = glob.glob(os.path.join(label_dir, f\"{pid}*.nii.gz\"))[0]\n",
    "    if not os.path.exists(label_path):\n",
    "        print(f\"⚠️ Label not found for {pid}, skipping.\")\n",
    "        continue\n",
    "\n",
    "    pred = sitk.GetArrayFromImage(sitk.ReadImage(pred_path))\n",
    "    gt = sitk.GetArrayFromImage(sitk.ReadImage(label_path))\n",
    "\n",
    "    dscs = [dice_coefficient(pred, gt, c) for c in class_ids]\n",
    "    results.append([pid, *dscs])\n",
    "\n",
    "df = pd.DataFrame(results, columns=['pid'] + [f'dsc_class{c}' for c in class_ids])\n",
    "df.to_csv(os.path.join(base_dir, f'{dataset}_SAM2_auto_seg_DSC_summary_{seed_count}seed.csv'), index=False)\n"
   ]
  },
  {
   "cell_type": "code",
   "execution_count": 18,
   "id": "74516f01-f7e4-4a86-8fc4-83902ef2178a",
   "metadata": {},
   "outputs": [
    {
     "name": "stdout",
     "output_type": "stream",
     "text": [
      "CT_TT\n",
      "Mean DSC per class:\n",
      "dsc_class1    0.896914\n",
      "dsc_class2    0.888824\n",
      "dtype: float64\n",
      "\n",
      "Standard Deviation of DSC per class:\n",
      "dsc_class1    0.029100\n",
      "dsc_class2    0.021087\n",
      "dtype: float64\n",
      "(173, 5)\n"
     ]
    },
    {
     "data": {
      "text/html": [
       "<div>\n",
       "<style scoped>\n",
       "    .dataframe tbody tr th:only-of-type {\n",
       "        vertical-align: middle;\n",
       "    }\n",
       "\n",
       "    .dataframe tbody tr th {\n",
       "        vertical-align: top;\n",
       "    }\n",
       "\n",
       "    .dataframe thead th {\n",
       "        text-align: right;\n",
       "    }\n",
       "</style>\n",
       "<table border=\"1\" class=\"dataframe\">\n",
       "  <thead>\n",
       "    <tr style=\"text-align: right;\">\n",
       "      <th></th>\n",
       "      <th>pid</th>\n",
       "      <th>dsc_class1</th>\n",
       "      <th>dsc_class2</th>\n",
       "      <th>dsc_class3</th>\n",
       "      <th>dsc_class4</th>\n",
       "    </tr>\n",
       "  </thead>\n",
       "  <tbody>\n",
       "    <tr>\n",
       "      <th>0</th>\n",
       "      <td>s0928</td>\n",
       "      <td>0.909987</td>\n",
       "      <td>0.908044</td>\n",
       "      <td>1.0</td>\n",
       "      <td>1.0</td>\n",
       "    </tr>\n",
       "    <tr>\n",
       "      <th>1</th>\n",
       "      <td>s0835</td>\n",
       "      <td>0.881805</td>\n",
       "      <td>0.887637</td>\n",
       "      <td>1.0</td>\n",
       "      <td>1.0</td>\n",
       "    </tr>\n",
       "    <tr>\n",
       "      <th>2</th>\n",
       "      <td>s1423</td>\n",
       "      <td>0.910966</td>\n",
       "      <td>0.898941</td>\n",
       "      <td>1.0</td>\n",
       "      <td>1.0</td>\n",
       "    </tr>\n",
       "    <tr>\n",
       "      <th>3</th>\n",
       "      <td>s0467</td>\n",
       "      <td>0.848591</td>\n",
       "      <td>0.885151</td>\n",
       "      <td>1.0</td>\n",
       "      <td>1.0</td>\n",
       "    </tr>\n",
       "    <tr>\n",
       "      <th>4</th>\n",
       "      <td>s0862</td>\n",
       "      <td>0.899787</td>\n",
       "      <td>0.908861</td>\n",
       "      <td>1.0</td>\n",
       "      <td>1.0</td>\n",
       "    </tr>\n",
       "  </tbody>\n",
       "</table>\n",
       "</div>"
      ],
      "text/plain": [
       "     pid  dsc_class1  dsc_class2  dsc_class3  dsc_class4\n",
       "0  s0928    0.909987    0.908044         1.0         1.0\n",
       "1  s0835    0.881805    0.887637         1.0         1.0\n",
       "2  s1423    0.910966    0.898941         1.0         1.0\n",
       "3  s0467    0.848591    0.885151         1.0         1.0\n",
       "4  s0862    0.899787    0.908861         1.0         1.0"
      ]
     },
     "execution_count": 18,
     "metadata": {},
     "output_type": "execute_result"
    }
   ],
   "source": [
    "print(dataset)\n",
    "mean_values = df[['dsc_class1', 'dsc_class2']].mean()\n",
    "std_values = df[['dsc_class1', 'dsc_class2']].std()\n",
    "\n",
    "print(\"Mean DSC per class:\")\n",
    "print(mean_values)\n",
    "\n",
    "print(\"\\nStandard Deviation of DSC per class:\")\n",
    "print(std_values)\n",
    "print(df.shape)\n",
    "df.head()"
   ]
  },
  {
   "cell_type": "code",
   "execution_count": null,
   "id": "37fa0a27-135b-4687-b2e7-9be05e033f6a",
   "metadata": {},
   "outputs": [],
   "source": []
  },
  {
   "cell_type": "code",
   "execution_count": 8,
   "id": "00c9f2fd",
   "metadata": {},
   "outputs": [
    {
     "name": "stdout",
     "output_type": "stream",
     "text": [
      "CT_TT\n",
      "Mean DSC per class:\n",
      "dsc_class1    0.897432\n",
      "dsc_class2    0.884695\n",
      "dsc_class3    1.000000\n",
      "dsc_class4    1.000000\n",
      "dtype: float64\n",
      "\n",
      "Standard Deviation of DSC per class:\n",
      "dsc_class1    0.026783\n",
      "dsc_class2    0.030179\n",
      "dsc_class3    0.000000\n",
      "dsc_class4    0.000000\n",
      "dtype: float64\n"
     ]
    },
    {
     "data": {
      "text/html": [
       "<div>\n",
       "<style scoped>\n",
       "    .dataframe tbody tr th:only-of-type {\n",
       "        vertical-align: middle;\n",
       "    }\n",
       "\n",
       "    .dataframe tbody tr th {\n",
       "        vertical-align: top;\n",
       "    }\n",
       "\n",
       "    .dataframe thead th {\n",
       "        text-align: right;\n",
       "    }\n",
       "</style>\n",
       "<table border=\"1\" class=\"dataframe\">\n",
       "  <thead>\n",
       "    <tr style=\"text-align: right;\">\n",
       "      <th></th>\n",
       "      <th>pid</th>\n",
       "      <th>dsc_class1</th>\n",
       "      <th>dsc_class2</th>\n",
       "      <th>dsc_class3</th>\n",
       "      <th>dsc_class4</th>\n",
       "    </tr>\n",
       "  </thead>\n",
       "  <tbody>\n",
       "    <tr>\n",
       "      <th>0</th>\n",
       "      <td>s0928</td>\n",
       "      <td>0.907166</td>\n",
       "      <td>0.908329</td>\n",
       "      <td>1.0</td>\n",
       "      <td>1.0</td>\n",
       "    </tr>\n",
       "    <tr>\n",
       "      <th>1</th>\n",
       "      <td>s0835</td>\n",
       "      <td>0.886207</td>\n",
       "      <td>0.890549</td>\n",
       "      <td>1.0</td>\n",
       "      <td>1.0</td>\n",
       "    </tr>\n",
       "    <tr>\n",
       "      <th>2</th>\n",
       "      <td>s1423</td>\n",
       "      <td>0.912794</td>\n",
       "      <td>0.896489</td>\n",
       "      <td>1.0</td>\n",
       "      <td>1.0</td>\n",
       "    </tr>\n",
       "    <tr>\n",
       "      <th>3</th>\n",
       "      <td>s0467</td>\n",
       "      <td>0.868498</td>\n",
       "      <td>0.881045</td>\n",
       "      <td>1.0</td>\n",
       "      <td>1.0</td>\n",
       "    </tr>\n",
       "    <tr>\n",
       "      <th>4</th>\n",
       "      <td>s0862</td>\n",
       "      <td>0.901225</td>\n",
       "      <td>0.912721</td>\n",
       "      <td>1.0</td>\n",
       "      <td>1.0</td>\n",
       "    </tr>\n",
       "  </tbody>\n",
       "</table>\n",
       "</div>"
      ],
      "text/plain": [
       "     pid  dsc_class1  dsc_class2  dsc_class3  dsc_class4\n",
       "0  s0928    0.907166    0.908329         1.0         1.0\n",
       "1  s0835    0.886207    0.890549         1.0         1.0\n",
       "2  s1423    0.912794    0.896489         1.0         1.0\n",
       "3  s0467    0.868498    0.881045         1.0         1.0\n",
       "4  s0862    0.901225    0.912721         1.0         1.0"
      ]
     },
     "execution_count": 8,
     "metadata": {},
     "output_type": "execute_result"
    }
   ],
   "source": [
    "print(dataset)\n",
    "mean_values = df[['dsc_class1', 'dsc_class2', 'dsc_class3', 'dsc_class4']].mean()\n",
    "std_values = df[['dsc_class1', 'dsc_class2', 'dsc_class3', 'dsc_class4']].std()\n",
    "\n",
    "print(\"Mean DSC per class:\")\n",
    "print(mean_values)\n",
    "\n",
    "print(\"\\nStandard Deviation of DSC per class:\")\n",
    "print(std_values)\n",
    "\n",
    "df.head()"
   ]
  },
  {
   "cell_type": "code",
   "execution_count": null,
   "id": "72343550",
   "metadata": {},
   "outputs": [],
   "source": []
  },
  {
   "cell_type": "code",
   "execution_count": null,
   "id": "2a92dce5-e674-4348-a77a-cfe43bf2916e",
   "metadata": {},
   "outputs": [],
   "source": []
  }
 ],
 "metadata": {
  "kernelspec": {
   "display_name": "Python 3 (ipykernel)",
   "language": "python",
   "name": "python3"
  },
  "language_info": {
   "codemirror_mode": {
    "name": "ipython",
    "version": 3
   },
   "file_extension": ".py",
   "mimetype": "text/x-python",
   "name": "python",
   "nbconvert_exporter": "python",
   "pygments_lexer": "ipython3",
   "version": "3.10.18"
  }
 },
 "nbformat": 4,
 "nbformat_minor": 5
}
